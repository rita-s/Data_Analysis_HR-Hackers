{
 "cells": [
  {
   "cell_type": "markdown",
   "metadata": {
    "pycharm": {
     "name": "#%% md\n"
    }
   },
   "source": [
    "# Beat the ATS - Project Description"
   ]
  },
  {
   "cell_type": "markdown",
   "metadata": {
    "pycharm": {
     "name": "#%% md\n"
    }
   },
   "source": [
    "###### According to Jobscan, 99% of Fortune 500 companies use an Applicant Tracking System (ATS) as their recruitment strategy.\n",
    "###### All ATS' store candidates' information by using keywords, so it's easy to parse and filter them.\n",
    "###### If applicant's resume does not meet certain criteria, it is either flagged or auto-rejected.\n",
    "###### \"Beat the ATS\" Project aims to analyse the most popular tools and skills (keywords) for Data Analytics field and check if there is a relationship between those skills and earnings."
   ]
  },
  {
   "cell_type": "markdown",
   "metadata": {
    "pycharm": {
     "name": "#%% md\n"
    }
   },
   "source": [
    "## Research Questions:\n",
    "<b>All research questions are based on years 2020-2021 in the United States of America</b>\n",
    "<br><br>\n",
    "###### 1. What were the most popular technologies employers sought in Data Analytics field in the period 2020-2021? (Frequency analysis)\n",
    "###### 2. What were the most popular tools employers sought? (Frequency analysis)\n",
    "###### 3. What were the most popular soft skills? (Frequency analysis)\n",
    "###### 4. Is there a relationship between education level and earnings? If yes, what is the relationship? (Regression analysis)\n",
    "###### 5. Is there a relationship between years of experience and earnings? If yes, what is the relationship? (Regression analysis)\n",
    "<br><br>\n",
    "### Hypotheses:\n",
    "###### 1. There are certain technologies that are more sought after than others.\n",
    "###### 2. There are certain tools that are more sought after than others.\n",
    "###### 3. There are certain soft skills that are sought after by employers.\n",
    "###### 4. There is a correlation between education level and earnings.\n",
    "###### 5. There is a correlation between experience level (measured in years) and earnings.\n"
   ]
  },
  {
   "cell_type": "code",
   "execution_count": 17,
   "metadata": {
    "pycharm": {
     "name": "#%%\n"
    }
   },
   "outputs": [],
   "source": [
    "# Import Dependencies\n",
    "import pandas as pd\n",
    "import numpy as np\n",
    "import matplotlib.pyplot as plt\n",
    "from scipy import stats\n",
    "from sklearn.feature_extraction.text import CountVectorizer\n",
    "from sklearn.feature_extraction.text import TfidfVectorizer"
   ]
  },
  {
   "cell_type": "code",
   "execution_count": 18,
   "metadata": {
    "pycharm": {
     "name": "#%%\n"
    }
   },
   "outputs": [],
   "source": [
    "# Declare variables and import the data\n",
    "job_descriptions = pd.read_csv(\"salary vs education vs experience.csv\")\n",
    "# salary_education_experience = pd.read_csv(\"salary vs education vs experience.csv\")by Hamza"
   ]
  },
  {
   "cell_type": "code",
   "execution_count": 19,
   "metadata": {
    "scrolled": true
   },
   "outputs": [
    {
     "data": {
      "text/html": [
       "<div>\n",
       "<style scoped>\n",
       "    .dataframe tbody tr th:only-of-type {\n",
       "        vertical-align: middle;\n",
       "    }\n",
       "\n",
       "    .dataframe tbody tr th {\n",
       "        vertical-align: top;\n",
       "    }\n",
       "\n",
       "    .dataframe thead th {\n",
       "        text-align: right;\n",
       "    }\n",
       "</style>\n",
       "<table border=\"1\" class=\"dataframe\">\n",
       "  <thead>\n",
       "    <tr style=\"text-align: right;\">\n",
       "      <th></th>\n",
       "      <th>Year</th>\n",
       "      <th>Compant</th>\n",
       "      <th>Job Title</th>\n",
       "      <th>Annual Salary</th>\n",
       "      <th>Location</th>\n",
       "      <th>Years of Experience</th>\n",
       "      <th>Gender</th>\n",
       "      <th>Masters Degree</th>\n",
       "      <th>Bachelors Degree</th>\n",
       "      <th>Doctorate Degree</th>\n",
       "      <th>Highschool</th>\n",
       "      <th>Some College</th>\n",
       "      <th>Education</th>\n",
       "    </tr>\n",
       "  </thead>\n",
       "  <tbody>\n",
       "    <tr>\n",
       "      <th>0</th>\n",
       "      <td>2020</td>\n",
       "      <td>PwC</td>\n",
       "      <td>Business Analyst</td>\n",
       "      <td>115000</td>\n",
       "      <td>Los Angeles, CA</td>\n",
       "      <td>5</td>\n",
       "      <td>Female</td>\n",
       "      <td>1</td>\n",
       "      <td>0</td>\n",
       "      <td>0</td>\n",
       "      <td>0</td>\n",
       "      <td>0</td>\n",
       "      <td>Master's Degree</td>\n",
       "    </tr>\n",
       "    <tr>\n",
       "      <th>1</th>\n",
       "      <td>2020</td>\n",
       "      <td>Fractal Analytics</td>\n",
       "      <td>Data Scientist</td>\n",
       "      <td>85000</td>\n",
       "      <td>Bangalore, KA, India</td>\n",
       "      <td>4</td>\n",
       "      <td>Male</td>\n",
       "      <td>0</td>\n",
       "      <td>1</td>\n",
       "      <td>0</td>\n",
       "      <td>0</td>\n",
       "      <td>0</td>\n",
       "      <td>Bachelor's Degree</td>\n",
       "    </tr>\n",
       "    <tr>\n",
       "      <th>2</th>\n",
       "      <td>2020</td>\n",
       "      <td>Microsoft</td>\n",
       "      <td>Data Scientist</td>\n",
       "      <td>156000</td>\n",
       "      <td>Seattle, WA</td>\n",
       "      <td>2</td>\n",
       "      <td>Male</td>\n",
       "      <td>0</td>\n",
       "      <td>0</td>\n",
       "      <td>1</td>\n",
       "      <td>0</td>\n",
       "      <td>0</td>\n",
       "      <td>PhD</td>\n",
       "    </tr>\n",
       "    <tr>\n",
       "      <th>3</th>\n",
       "      <td>2020</td>\n",
       "      <td>PwC</td>\n",
       "      <td>Business Analyst</td>\n",
       "      <td>25000</td>\n",
       "      <td>Moscow, MC, Russia</td>\n",
       "      <td>8</td>\n",
       "      <td>Female</td>\n",
       "      <td>1</td>\n",
       "      <td>0</td>\n",
       "      <td>0</td>\n",
       "      <td>0</td>\n",
       "      <td>0</td>\n",
       "      <td>Master's Degree</td>\n",
       "    </tr>\n",
       "    <tr>\n",
       "      <th>4</th>\n",
       "      <td>2020</td>\n",
       "      <td>SAP</td>\n",
       "      <td>Business Analyst</td>\n",
       "      <td>41000</td>\n",
       "      <td>Toronto, ON, Canada</td>\n",
       "      <td>2</td>\n",
       "      <td>Male</td>\n",
       "      <td>0</td>\n",
       "      <td>1</td>\n",
       "      <td>0</td>\n",
       "      <td>0</td>\n",
       "      <td>0</td>\n",
       "      <td>Bachelor's Degree</td>\n",
       "    </tr>\n",
       "  </tbody>\n",
       "</table>\n",
       "</div>"
      ],
      "text/plain": [
       "   Year            Compant         Job Title  Annual Salary  \\\n",
       "0  2020                PwC  Business Analyst         115000   \n",
       "1  2020  Fractal Analytics    Data Scientist          85000   \n",
       "2  2020          Microsoft    Data Scientist         156000   \n",
       "3  2020                PwC  Business Analyst          25000   \n",
       "4  2020                SAP  Business Analyst          41000   \n",
       "\n",
       "               Location  Years of Experience  Gender  Masters Degree  \\\n",
       "0       Los Angeles, CA                    5  Female               1   \n",
       "1  Bangalore, KA, India                    4    Male               0   \n",
       "2           Seattle, WA                    2    Male               0   \n",
       "3    Moscow, MC, Russia                    8  Female               1   \n",
       "4   Toronto, ON, Canada                    2    Male               0   \n",
       "\n",
       "   Bachelors Degree  Doctorate Degree  Highschool  Some College  \\\n",
       "0                 0                 0           0             0   \n",
       "1                 1                 0           0             0   \n",
       "2                 0                 1           0             0   \n",
       "3                 0                 0           0             0   \n",
       "4                 1                 0           0             0   \n",
       "\n",
       "           Education  \n",
       "0    Master's Degree  \n",
       "1  Bachelor's Degree  \n",
       "2                PhD  \n",
       "3    Master's Degree  \n",
       "4  Bachelor's Degree  "
      ]
     },
     "execution_count": 19,
     "metadata": {},
     "output_type": "execute_result"
    }
   ],
   "source": [
    "job_descriptions.head()"
   ]
  },
  {
   "cell_type": "code",
   "execution_count": 20,
   "metadata": {},
   "outputs": [],
   "source": [
    "list_of_educations = job_descriptions['Education'].to_list()\n",
    "list_of_salary = job_descriptions['Annual Salary'].to_list()\n",
    "list_of_years = job_descriptions['Years of Experience'].to_list()\n",
    "list_of_locations=job_descriptions['Location'].to_list()"
   ]
  },
  {
   "cell_type": "code",
   "execution_count": 21,
   "metadata": {},
   "outputs": [],
   "source": [
    "my_dict = {\n",
    "    \"Salary\": list_of_salary,\n",
    "    \"Education\":list_of_educations,\n",
    "    \"Years_of_Experiance\":list_of_years,\n",
    "    \"Location\":list_of_locations\n",
    "}\n",
    "\n",
    "data = pd.DataFrame(my_dict)"
   ]
  },
  {
   "cell_type": "code",
   "execution_count": 22,
   "metadata": {},
   "outputs": [
    {
     "name": "stdout",
     "output_type": "stream",
     "text": [
      "[\"Master's Degree\" \"Bachelor's Degree\" 'PhD' 0 'Some College' 'Highschool']\n"
     ]
    }
   ],
   "source": [
    "data['Education'] = data['Education'].fillna(0)\n",
    "print(data['Education'].unique())"
   ]
  },
  {
   "cell_type": "code",
   "execution_count": 23,
   "metadata": {},
   "outputs": [],
   "source": [
    "data = data[data.Education != 0]\n",
    "bach_sal= data.loc[(data['Education'].str.contains(\"Bachelor's Degree\")) & (data['Years_of_Experiance'] == 5)]\n",
    "master_sal= data.loc[(data['Education'].str.contains(\"Master's Degree\"))& (data['Years_of_Experiance'] == 5)]\n",
    "phd_sal= data.loc[(data['Education'].str.contains(\"PhD\"))& (data['Years_of_Experiance'] == 5)]\n",
    "high_sal= data.loc[data['Education'].str.contains(\"Highschool\")]\n",
    "sc_sal= data.loc[data['Education'].str.contains(\"Some College\")]\n",
    "#high_sal= data.loc[(data['Education'].str.contains(\"Highschool\"))& (data['Years_of_Experiance'] == 5)]\n",
    "#sc_sal= data.loc[(data['Education'].str.contains(\"Some College\"))& (data['Years_of_Experiance'] == 5)]\n",
    "#Couldnt use filted high school and some college as there was no data left after filtering"
   ]
  },
  {
   "cell_type": "code",
   "execution_count": 24,
   "metadata": {},
   "outputs": [],
   "source": [
    "bach_salary= bach_sal['Salary'].to_list()\n",
    "bach_std=np.std(bach_salary)\n",
    "bach_mean= np.mean(bach_salary)\n",
    "\n",
    "master_salary= master_sal['Salary'].to_list()\n",
    "master_std=np.std(master_salary)\n",
    "master_mean= np.mean(master_salary)\n",
    "\n",
    "phd_salary= phd_sal['Salary'].to_list()\n",
    "phd_std=np.std(phd_salary)\n",
    "phd_mean= np.mean(phd_salary)\n",
    "\n",
    "high_salary= high_sal['Salary'].to_list()\n",
    "high_std=np.std(high_salary)\n",
    "high_mean= np.mean(high_salary)\n",
    "\n",
    "sc_salary= sc_sal['Salary'].to_list()\n",
    "sc_std=np.std(sc_salary)\n",
    "sc_mean= np.mean(sc_salary)"
   ]
  },
  {
   "cell_type": "code",
   "execution_count": 25,
   "metadata": {},
   "outputs": [
    {
     "data": {
      "image/png": "[encoded data removed]",
      "text/plain": [
       "<Figure size 432x288 with 1 Axes>"
      ]
     },
     "metadata": {
      "needs_background": "light"
     },
     "output_type": "display_data"
    }
   ],
   "source": [
    "fig = plt.figure()\n",
    "ax = fig.add_axes([0,0,1,1])\n",
    "qualifications = [\"Bachelor's \",\"Master's\",\"PhD\",\"High School\",\"Some College\"]\n",
    "salary= [bach_mean,master_mean,phd_mean,high_mean,sc_mean]\n",
    "ax.bar(qualifications,salary)\n",
    "plt.show()"
   ]
  },
  {
   "cell_type": "code",
   "execution_count": 26,
   "metadata": {},
   "outputs": [
    {
     "data": {
      "image/png": "[encoded data removed]",
      "text/plain": [
       "<Figure size 432x288 with 1 Axes>"
      ]
     },
     "metadata": {
      "needs_background": "light"
     },
     "output_type": "display_data"
    }
   ],
   "source": [
    "dataplot = [bach_sal['Salary'], master_sal['Salary'], phd_sal['Salary'],high_sal['Salary'],sc_sal['Salary']]\n",
    "fig7, ax7 = plt.subplots()\n",
    "ax7.set_title('Education Level to earnings')\n",
    "ax7.boxplot(dataplot)\n",
    "plt.xticks([1, 2, 3, 4, 5], ['Bachelors', 'Masters', 'PhD','HS','Some Coll'])\n",
    "plt.show()"
   ]
  },
  {
   "cell_type": "code",
   "execution_count": 28,
   "metadata": {},
   "outputs": [
    {
     "data": {
      "text/plain": [
       "San Francisco, CA        193\n",
       "Seattle, WA              160\n",
       "New York, NY             142\n",
       "San Jose, CA              55\n",
       "Menlo Park, CA            48\n",
       "                        ... \n",
       "Antioch, TN                1\n",
       "Mississippi State, MS      1\n",
       "Italy, TX                  1\n",
       "King of Prussia, PA        1\n",
       "Round Rock, TX             1\n",
       "Name: Location, Length: 210, dtype: int64"
      ]
     },
     "execution_count": 28,
     "metadata": {},
     "output_type": "execute_result"
    }
   ],
   "source": [
    "data.Location.value_counts()"
   ]
  },
  {
   "cell_type": "code",
   "execution_count": null,
   "metadata": {},
   "outputs": [],
   "source": []
  }
 ],
 "metadata": {
  "kernelspec": {
   "display_name": "Python 3",
   "language": "python",
   "name": "python3"
  },
  "language_info": {
   "codemirror_mode": {
    "name": "ipython",
    "version": 3
   },
   "file_extension": ".py",
   "mimetype": "text/x-python",
   "name": "python",
   "nbconvert_exporter": "python",
   "pygments_lexer": "ipython3",
   "version": "3.8.8"
  }
 },
 "nbformat": 4,
 "nbformat_minor": 1
}
