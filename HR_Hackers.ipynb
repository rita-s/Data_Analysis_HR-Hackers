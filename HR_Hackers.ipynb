{
 "cells": [
  {
   "cell_type": "markdown",
   "source": [
    "# Beat the ATS - Project Description"
   ],
   "metadata": {
    "collapsed": false,
    "pycharm": {
     "name": "#%% md\n"
    }
   }
  },
  {
   "cell_type": "markdown",
   "source": [
    "###### According to Jobscan, 99% of Fortune 500 companies use an Applicant Tracking System (ATS) as their recruitment strategy.\n",
    "###### All ATS' store candidates' information by using keywords, so it's easy to parse and filter them.\n",
    "###### If applicant's resume does not meet certain criteria, it is either flagged or auto-rejected.\n",
    "###### \"Beat the ATS\" Project aims to analyse the most popular tools and skills (keywords) for Data Analytics field and check if there is a relationship between those skills and earnings."
   ],
   "metadata": {
    "collapsed": false,
    "pycharm": {
     "name": "#%% md\n"
    }
   }
  },
  {
   "cell_type": "markdown",
   "source": [
    "## Research Questions:\n",
    "<b>All research questions are based on years 2020-2021 in the United States of America</b>\n",
    "<br><br>\n",
    "###### 1. What were the most popular technologies employers sought in Data Analytics field in the period 2020-2021? (Frequency analysis)\n",
    "###### 2. What were the most popular tools employers sought? (Frequency analysis)\n",
    "###### 3. What were the most popular soft skills? (Frequency analysis)\n",
    "###### 4. Is there a relationship between education level and earnings? If yes, what is the relationship? (Regression analysis)\n",
    "###### 5. Is there a relationship between years of experience and earnings? If yes, what is the relationship? (Regression analysis)\n",
    "<br><br>\n",
    "### Hypotheses:\n",
    "###### 1. There are certain technologies that are more sought after than others.\n",
    "###### 2. There are certain tools that are more sought after than others.\n",
    "###### 3. There are certain soft skills that are sought after by employers.\n",
    "###### 4. There is a correlation between education level and earnings.\n",
    "###### 5. There is a correlation between experience level (measured in years) and earnings.\n"
   ],
   "metadata": {
    "collapsed": false,
    "pycharm": {
     "name": "#%% md\n"
    }
   }
  },
  {
   "cell_type": "code",
   "execution_count": 59,
   "outputs": [],
   "source": [
    "# Import Dependencies\n",
    "import string\n",
    "import pandas as pd\n",
    "from pandas import DataFrame\n",
    "import numpy as np\n",
    "from scipy import stats\n",
    "from nltk.corpus import stopwords\n",
    "from sklearn.feature_extraction.text import CountVectorizer"
   ],
   "metadata": {
    "collapsed": false,
    "pycharm": {
     "name": "#%%\n"
    }
   }
  },
  {
   "cell_type": "code",
   "execution_count": 60,
   "outputs": [],
   "source": [
    "# Declare variables and import the data\n",
    "job_descriptions = pd.read_csv(\"job_descriptions.csv\")\n",
    "salary_education_experience = pd.read_csv(\"salary_education_experience.csv\")"
   ],
   "metadata": {
    "collapsed": false,
    "pycharm": {
     "name": "#%%\n"
    }
   }
  },
  {
   "cell_type": "code",
   "execution_count": 61,
   "outputs": [
    {
     "data": {
      "text/plain": "                                           Job Title Salary Estimate  \\\n0  Data Analyst, Center on Immigration and Justic...           37-66   \n1                               Quality Data Analyst           37-66   \n2  Senior Data Analyst, Insights & Analytics Team...           37-66   \n\n                                     Job Description  \\\n0  Are you eager to roll up your sleeves and harn...   \n1  Overview\\n\\nProvides analytical and technical ...   \n2  We’re looking for a Senior Data Analyst who ha...   \n\n                              Company Name      Location  \n0           Vera Institute of Justice\\n3.2  New York, NY  \n1  Visiting Nurse Service of New York\\n3.8  New York, NY  \n2                         Squarespace\\n3.4  New York, NY  ",
      "text/html": "<div>\n<style scoped>\n    .dataframe tbody tr th:only-of-type {\n        vertical-align: middle;\n    }\n\n    .dataframe tbody tr th {\n        vertical-align: top;\n    }\n\n    .dataframe thead th {\n        text-align: right;\n    }\n</style>\n<table border=\"1\" class=\"dataframe\">\n  <thead>\n    <tr style=\"text-align: right;\">\n      <th></th>\n      <th>Job Title</th>\n      <th>Salary Estimate</th>\n      <th>Job Description</th>\n      <th>Company Name</th>\n      <th>Location</th>\n    </tr>\n  </thead>\n  <tbody>\n    <tr>\n      <th>0</th>\n      <td>Data Analyst, Center on Immigration and Justic...</td>\n      <td>37-66</td>\n      <td>Are you eager to roll up your sleeves and harn...</td>\n      <td>Vera Institute of Justice\\n3.2</td>\n      <td>New York, NY</td>\n    </tr>\n    <tr>\n      <th>1</th>\n      <td>Quality Data Analyst</td>\n      <td>37-66</td>\n      <td>Overview\\n\\nProvides analytical and technical ...</td>\n      <td>Visiting Nurse Service of New York\\n3.8</td>\n      <td>New York, NY</td>\n    </tr>\n    <tr>\n      <th>2</th>\n      <td>Senior Data Analyst, Insights &amp; Analytics Team...</td>\n      <td>37-66</td>\n      <td>We’re looking for a Senior Data Analyst who ha...</td>\n      <td>Squarespace\\n3.4</td>\n      <td>New York, NY</td>\n    </tr>\n  </tbody>\n</table>\n</div>"
     },
     "execution_count": 61,
     "metadata": {},
     "output_type": "execute_result"
    }
   ],
   "source": [
    "# Checking if the data was loaded correctly\n",
    "job_descriptions.head(3)"
   ],
   "metadata": {
    "collapsed": false,
    "pycharm": {
     "name": "#%%\n"
    }
   }
  },
  {
   "cell_type": "code",
   "execution_count": 62,
   "outputs": [
    {
     "data": {
      "text/plain": "   Year            Company         Job Title  Annual Salary  \\\n0  2020                PwC  Business Analyst         115000   \n1  2020  Fractal Analytics    Data Scientist          85000   \n2  2020          Microsoft    Data Scientist         156000   \n\n               Location  Years of Experience  Gender  Masters Degree  \\\n0       Los Angeles, CA                    5  Female               1   \n1  Bangalore, KA, India                    4    Male               0   \n2           Seattle, WA                    2    Male               0   \n\n   Bachelors Degree  Doctorate Degree  High School  Some College  \\\n0                 0                 0            0             0   \n1                 1                 0            0             0   \n2                 0                 1            0             0   \n\n           Education  \n0    Master's Degree  \n1  Bachelor's Degree  \n2                PhD  ",
      "text/html": "<div>\n<style scoped>\n    .dataframe tbody tr th:only-of-type {\n        vertical-align: middle;\n    }\n\n    .dataframe tbody tr th {\n        vertical-align: top;\n    }\n\n    .dataframe thead th {\n        text-align: right;\n    }\n</style>\n<table border=\"1\" class=\"dataframe\">\n  <thead>\n    <tr style=\"text-align: right;\">\n      <th></th>\n      <th>Year</th>\n      <th>Company</th>\n      <th>Job Title</th>\n      <th>Annual Salary</th>\n      <th>Location</th>\n      <th>Years of Experience</th>\n      <th>Gender</th>\n      <th>Masters Degree</th>\n      <th>Bachelors Degree</th>\n      <th>Doctorate Degree</th>\n      <th>High School</th>\n      <th>Some College</th>\n      <th>Education</th>\n    </tr>\n  </thead>\n  <tbody>\n    <tr>\n      <th>0</th>\n      <td>2020</td>\n      <td>PwC</td>\n      <td>Business Analyst</td>\n      <td>115000</td>\n      <td>Los Angeles, CA</td>\n      <td>5</td>\n      <td>Female</td>\n      <td>1</td>\n      <td>0</td>\n      <td>0</td>\n      <td>0</td>\n      <td>0</td>\n      <td>Master's Degree</td>\n    </tr>\n    <tr>\n      <th>1</th>\n      <td>2020</td>\n      <td>Fractal Analytics</td>\n      <td>Data Scientist</td>\n      <td>85000</td>\n      <td>Bangalore, KA, India</td>\n      <td>4</td>\n      <td>Male</td>\n      <td>0</td>\n      <td>1</td>\n      <td>0</td>\n      <td>0</td>\n      <td>0</td>\n      <td>Bachelor's Degree</td>\n    </tr>\n    <tr>\n      <th>2</th>\n      <td>2020</td>\n      <td>Microsoft</td>\n      <td>Data Scientist</td>\n      <td>156000</td>\n      <td>Seattle, WA</td>\n      <td>2</td>\n      <td>Male</td>\n      <td>0</td>\n      <td>0</td>\n      <td>1</td>\n      <td>0</td>\n      <td>0</td>\n      <td>PhD</td>\n    </tr>\n  </tbody>\n</table>\n</div>"
     },
     "execution_count": 62,
     "metadata": {},
     "output_type": "execute_result"
    }
   ],
   "source": [
    "salary_education_experience.head(3)"
   ],
   "metadata": {
    "collapsed": false,
    "pycharm": {
     "name": "#%%\n"
    }
   }
  },
  {
   "cell_type": "code",
   "execution_count": 63,
   "outputs": [],
   "source": [
    "# Clean the data\n",
    "# Drop N/A where relevant (not relevant in the context of education!!!)\n",
    "# Words spelled differently, aggregate words for the same meaning\n",
    "# Address encoding problems: convert all job descriptions to UTF-8 using unicode_escape, pandas ignore encoding)"
   ],
   "metadata": {
    "collapsed": false,
    "pycharm": {
     "name": "#%%\n"
    }
   }
  },
  {
   "cell_type": "code",
   "execution_count": 64,
   "outputs": [],
   "source": [
    "# Searching for keywords:\n",
    "# Define words matrix\n",
    "# Stop words removal\n",
    "# Count the frequency using CountVectorizer\n",
    "# Produce counts\n",
    "def words_matrix(words, vectorizer):\n",
    "    matrix = vectorizer.fit_transform(words)\n",
    "    return DataFrame(matrix.toarray(),\n",
    "                     columns=vectorizer.get_feature_names_out()\n",
    "                     )"
   ],
   "metadata": {
    "collapsed": false,
    "pycharm": {
     "name": "#%%\n"
    }
   }
  },
  {
   "cell_type": "code",
   "execution_count": 65,
   "outputs": [],
   "source": [
    "# Assigning text to a variable and changing type to string, so it's possible to remove stop words\n",
    "text = job_descriptions['Job Description'].to_string()"
   ],
   "metadata": {
    "collapsed": false,
    "pycharm": {
     "name": "#%%\n"
    }
   }
  },
  {
   "cell_type": "code",
   "execution_count": 66,
   "outputs": [],
   "source": [
    "# Declaring and printing stop words - using print function, so they are printed as a list, not as an array\n",
    "stop_words = stopwords.words('english')"
   ],
   "metadata": {
    "collapsed": false,
    "pycharm": {
     "name": "#%%\n"
    }
   }
  },
  {
   "cell_type": "code",
   "execution_count": 83,
   "outputs": [],
   "source": [
    "keywords = [word for word in text.split() if word[0] == 'a' or word[0] == 'b' or word[0] == 'c' or word[0] == 'd' or word[0] == 'e' or word[0] == 'f' or word[0] == 'g' or word[0] == 'h' or word[0] == 'i' or word[0] == 'j' or word[0] == 'k' or word[0] == 'l' or word[0] == 'm' or word[0] == 'n' or word[0] == 'o' or word[0] == 'p' or word[0] == 'q' or word[0] == 'r' or word[0] == 's' or word[0] == 't' or word[0] == 'u' or word[0] == 'v' or word[0] == 'w' or word[0] == 'y' or word[0] == 'z' and len(word) >=3 and word not in stop_words]\n",
    "cleaned_keywords = ' '.join(keywords)\n",
    "keywords = cleaned_keywords.split()\n",
    "# print(keywords)"
   ],
   "metadata": {
    "collapsed": false,
    "pycharm": {
     "name": "#%%\n"
    }
   }
  },
  {
   "cell_type": "code",
   "execution_count": 84,
   "outputs": [
    {
     "data": {
      "text/plain": "8d             1\nabi            1\nability        2\nabout         10\nabsolutely     2\n              ..\nyou           74\nyoung          1\nyour          23\nyrs            1\nze             1\nLength: 1271, dtype: int64"
     },
     "execution_count": 84,
     "metadata": {},
     "output_type": "execute_result"
    }
   ],
   "source": [
    "vec = CountVectorizer()\n",
    "frequency = words_matrix(keywords, vec)\n",
    "frequency.transpose()\n",
    "frequency_count = frequency.sum()\n",
    "frequency_count"
   ],
   "metadata": {
    "collapsed": false,
    "pycharm": {
     "name": "#%%\n"
    }
   }
  },
  {
   "cell_type": "code",
   "execution_count": 86,
   "outputs": [],
   "source": [
    "# Create a visualisation for keywords"
   ],
   "metadata": {
    "collapsed": false,
    "pycharm": {
     "name": "#%%\n"
    }
   }
  },
  {
   "cell_type": "code",
   "execution_count": 87,
   "outputs": [],
   "source": [
    "# Calculate Measures of Central Tendency - mean, median, mode for education\n",
    "# example_array = np.array([24, 16, 12, 10, 12, 28, 38, 12, 28, 24])\n",
    "# example_mode = stats.mode(example_array)\n",
    "# If there are multiple modes, the stats.mode() function will always return the smallest mode in the dataset."
   ],
   "metadata": {
    "collapsed": false,
    "pycharm": {
     "name": "#%%\n"
    }
   }
  },
  {
   "cell_type": "code",
   "execution_count": 71,
   "outputs": [],
   "source": [
    "# Create a visualisation for education"
   ],
   "metadata": {
    "collapsed": false,
    "pycharm": {
     "name": "#%%\n"
    }
   }
  },
  {
   "cell_type": "code",
   "execution_count": 72,
   "outputs": [],
   "source": [
    "# Calculate Measures of Central Tendency - mean, median, mode for experience"
   ],
   "metadata": {
    "collapsed": false,
    "pycharm": {
     "name": "#%%\n"
    }
   }
  },
  {
   "cell_type": "code",
   "execution_count": 73,
   "outputs": [],
   "source": [
    "# Create a visualisation for experience"
   ],
   "metadata": {
    "collapsed": false,
    "pycharm": {
     "name": "#%%\n"
    }
   }
  },
  {
   "cell_type": "code",
   "execution_count": 74,
   "outputs": [],
   "source": [
    "# Calculate Measures of Central Tendency - mean, median, mode for earnings"
   ],
   "metadata": {
    "collapsed": false,
    "pycharm": {
     "name": "#%%\n"
    }
   }
  },
  {
   "cell_type": "code",
   "execution_count": 75,
   "outputs": [],
   "source": [
    "# Create a visualisation for earnings"
   ],
   "metadata": {
    "collapsed": false,
    "pycharm": {
     "name": "#%%\n"
    }
   }
  },
  {
   "cell_type": "code",
   "execution_count": 76,
   "outputs": [],
   "source": [
    "# Perform regression analysis for education and earnings"
   ],
   "metadata": {
    "collapsed": false,
    "pycharm": {
     "name": "#%%\n"
    }
   }
  },
  {
   "cell_type": "code",
   "execution_count": 77,
   "outputs": [],
   "source": [
    "# Create a visualisation for regression analysis: education vs earnings"
   ],
   "metadata": {
    "collapsed": false,
    "pycharm": {
     "name": "#%%\n"
    }
   }
  },
  {
   "cell_type": "code",
   "execution_count": 78,
   "outputs": [],
   "source": [
    "# Perform regression analysis for experience and earnings"
   ],
   "metadata": {
    "collapsed": false,
    "pycharm": {
     "name": "#%%\n"
    }
   }
  },
  {
   "cell_type": "code",
   "execution_count": 79,
   "outputs": [],
   "source": [
    "# Create a visualisation for regression analysis: experience vs earnings"
   ],
   "metadata": {
    "collapsed": false,
    "pycharm": {
     "name": "#%%\n"
    }
   }
  },
  {
   "cell_type": "code",
   "execution_count": 80,
   "outputs": [],
   "source": [
    "# We can define the Student t-test as a method that tells us how significant the differences can be between different groups.\n",
    "# A Student t-test is defined as a statistic and this is used to compare the means of two different populations.\n",
    "# t-test: stats.ttest_1samp(X, mean)\n",
    "# Independent t-test: stats.ttest_ind(X,Y)"
   ],
   "metadata": {
    "collapsed": false,
    "pycharm": {
     "name": "#%%\n"
    }
   }
  },
  {
   "cell_type": "code",
   "execution_count": 81,
   "outputs": [],
   "source": [
    "# Create a visualisation for t-test"
   ],
   "metadata": {
    "collapsed": false,
    "pycharm": {
     "name": "#%%\n"
    }
   }
  }
 ],
 "metadata": {
  "kernelspec": {
   "display_name": "Python 3",
   "language": "python",
   "name": "python3"
  },
  "language_info": {
   "codemirror_mode": {
    "name": "ipython",
    "version": 2
   },
   "file_extension": ".py",
   "mimetype": "text/x-python",
   "name": "python",
   "nbconvert_exporter": "python",
   "pygments_lexer": "ipython2",
   "version": "2.7.6"
  }
 },
 "nbformat": 4,
 "nbformat_minor": 0
}