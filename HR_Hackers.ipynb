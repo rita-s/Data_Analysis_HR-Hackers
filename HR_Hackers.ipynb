{
 "cells": [
  {
   "cell_type": "markdown",
   "metadata": {
    "pycharm": {
     "name": "#%% md\n"
    }
   },
   "source": [
    "# Beat the ATS - Project Description"
   ]
  },
  {
   "cell_type": "markdown",
   "metadata": {
    "pycharm": {
     "name": "#%% md\n"
    }
   },
   "source": [
    "###### According to Jobscan, 99% of Fortune 500 companies use an Applicant Tracking System (ATS) as their recruitment strategy.\n",
    "###### All ATS' store candidates' information by using keywords, so it's easy to parse and filter them.\n",
    "###### If applicant's resume does not meet certain criteria, it is either flagged or auto-rejected.\n",
    "###### \"Beat the ATS\" Project aims to analyse the most popular tools and skills (keywords) for Data Analytics field and check if there is a relationship between those skills and earnings."
   ]
  },
  {
   "cell_type": "markdown",
   "metadata": {
    "pycharm": {
     "name": "#%% md\n"
    }
   },
   "source": [
    "## Research Questions:\n",
    "<b>All research questions are based on years 2020-2021 in the United States of America</b>\n",
    "<br><br>\n",
    "###### 1. What were the most popular technologies employers sought in Data Analytics field in the period 2020-2021? (Frequency analysis)\n",
    "###### 2. What were the most popular tools employers sought? (Frequency analysis)\n",
    "###### 3. What were the most popular soft skills? (Frequency analysis)\n",
    "###### 4. Is there a relationship between education level and earnings? If yes, what is the relationship? (Regression analysis)\n",
    "###### 5. Is there a relationship between years of experience and earnings? If yes, what is the relationship? (Regression analysis)\n",
    "<br><br>\n",
    "### Hypotheses:\n",
    "###### 1. There are certain technologies that are more sought after than others.\n",
    "###### 2. There are certain tools that are more sought after than others.\n",
    "###### 3. There are certain soft skills that are sought after by employers.\n",
    "###### 4. There is a correlation between education level and earnings.\n",
    "###### 5. There is a correlation between experience level (measured in years) and earnings.\n"
   ]
  },
  {
   "cell_type": "code",
   "execution_count": 188,
   "metadata": {},
   "outputs": [],
   "source": [
    "#%matplotlib notebook\n",
    "#%matplotlib inline"
   ]
  },
  {
   "cell_type": "code",
   "execution_count": 142,
   "metadata": {
    "pycharm": {
     "name": "#%%\n"
    }
   },
   "outputs": [],
   "source": [
    "# Import Dependencies\n",
    "import pandas as pd\n",
    "import numpy as np\n",
    "import scipy.stats as st\n",
    "import seaborn as sns\n",
    "import matplotlib.pyplot as plt\n",
    "from sklearn.feature_extraction.text import CountVectorizer\n",
    "from sklearn.feature_extraction.text import TfidfVectorizer"
   ]
  },
  {
   "cell_type": "code",
   "execution_count": 244,
   "metadata": {
    "pycharm": {
     "name": "#%%\n"
    }
   },
   "outputs": [],
   "source": [
    "# Declare variables and import the data\n",
    "# job_descriptions = pd.read_csv(\"Job descriptions.csv\")\n",
    "# salary_education_experience = pd.read_csv(\"salary vs education vs experience.csv\")\n",
    "job_desc_df = pd.read_csv(\"salary_education_experience.csv\")"
   ]
  },
  {
   "cell_type": "markdown",
   "metadata": {},
   "source": [
    "# Finding the relationship between years of experience and earnings"
   ]
  },
  {
   "cell_type": "code",
   "execution_count": 366,
   "metadata": {},
   "outputs": [
    {
     "data": {
      "text/html": [
       "<div>\n",
       "<style scoped>\n",
       "    .dataframe tbody tr th:only-of-type {\n",
       "        vertical-align: middle;\n",
       "    }\n",
       "\n",
       "    .dataframe tbody tr th {\n",
       "        vertical-align: top;\n",
       "    }\n",
       "\n",
       "    .dataframe thead th {\n",
       "        text-align: right;\n",
       "    }\n",
       "</style>\n",
       "<table border=\"1\" class=\"dataframe\">\n",
       "  <thead>\n",
       "    <tr style=\"text-align: right;\">\n",
       "      <th></th>\n",
       "      <th>Year</th>\n",
       "      <th>Compant</th>\n",
       "      <th>Job_Title</th>\n",
       "      <th>Annual_Salary</th>\n",
       "      <th>Location</th>\n",
       "      <th>Years_of_Experience</th>\n",
       "      <th>Gender</th>\n",
       "      <th>Masters Degree</th>\n",
       "      <th>Bachelors Degree</th>\n",
       "      <th>Doctorate Degree</th>\n",
       "      <th>Highschool</th>\n",
       "      <th>Some College</th>\n",
       "      <th>Education</th>\n",
       "    </tr>\n",
       "  </thead>\n",
       "  <tbody>\n",
       "    <tr>\n",
       "      <th>0</th>\n",
       "      <td>2020</td>\n",
       "      <td>PwC</td>\n",
       "      <td>Business Analyst</td>\n",
       "      <td>115000</td>\n",
       "      <td>Los Angeles, CA</td>\n",
       "      <td>5</td>\n",
       "      <td>Female</td>\n",
       "      <td>1</td>\n",
       "      <td>0</td>\n",
       "      <td>0</td>\n",
       "      <td>0</td>\n",
       "      <td>0</td>\n",
       "      <td>Master's Degree</td>\n",
       "    </tr>\n",
       "    <tr>\n",
       "      <th>1</th>\n",
       "      <td>2020</td>\n",
       "      <td>Fractal Analytics</td>\n",
       "      <td>Data Scientist</td>\n",
       "      <td>85000</td>\n",
       "      <td>Bangalore, KA, India</td>\n",
       "      <td>4</td>\n",
       "      <td>Male</td>\n",
       "      <td>0</td>\n",
       "      <td>1</td>\n",
       "      <td>0</td>\n",
       "      <td>0</td>\n",
       "      <td>0</td>\n",
       "      <td>Bachelor's Degree</td>\n",
       "    </tr>\n",
       "    <tr>\n",
       "      <th>2</th>\n",
       "      <td>2020</td>\n",
       "      <td>Microsoft</td>\n",
       "      <td>Data Scientist</td>\n",
       "      <td>156000</td>\n",
       "      <td>Seattle, WA</td>\n",
       "      <td>2</td>\n",
       "      <td>Male</td>\n",
       "      <td>0</td>\n",
       "      <td>0</td>\n",
       "      <td>1</td>\n",
       "      <td>0</td>\n",
       "      <td>0</td>\n",
       "      <td>PhD</td>\n",
       "    </tr>\n",
       "    <tr>\n",
       "      <th>3</th>\n",
       "      <td>2020</td>\n",
       "      <td>PwC</td>\n",
       "      <td>Business Analyst</td>\n",
       "      <td>25000</td>\n",
       "      <td>Moscow, MC, Russia</td>\n",
       "      <td>8</td>\n",
       "      <td>Female</td>\n",
       "      <td>1</td>\n",
       "      <td>0</td>\n",
       "      <td>0</td>\n",
       "      <td>0</td>\n",
       "      <td>0</td>\n",
       "      <td>Master's Degree</td>\n",
       "    </tr>\n",
       "    <tr>\n",
       "      <th>4</th>\n",
       "      <td>2020</td>\n",
       "      <td>SAP</td>\n",
       "      <td>Business Analyst</td>\n",
       "      <td>41000</td>\n",
       "      <td>Toronto, ON, Canada</td>\n",
       "      <td>2</td>\n",
       "      <td>Male</td>\n",
       "      <td>0</td>\n",
       "      <td>1</td>\n",
       "      <td>0</td>\n",
       "      <td>0</td>\n",
       "      <td>0</td>\n",
       "      <td>Bachelor's Degree</td>\n",
       "    </tr>\n",
       "    <tr>\n",
       "      <th>...</th>\n",
       "      <td>...</td>\n",
       "      <td>...</td>\n",
       "      <td>...</td>\n",
       "      <td>...</td>\n",
       "      <td>...</td>\n",
       "      <td>...</td>\n",
       "      <td>...</td>\n",
       "      <td>...</td>\n",
       "      <td>...</td>\n",
       "      <td>...</td>\n",
       "      <td>...</td>\n",
       "      <td>...</td>\n",
       "      <td>...</td>\n",
       "    </tr>\n",
       "    <tr>\n",
       "      <th>1799</th>\n",
       "      <td>2020</td>\n",
       "      <td>Twitter</td>\n",
       "      <td>Business Analyst</td>\n",
       "      <td>89000</td>\n",
       "      <td>San Francisco, CA</td>\n",
       "      <td>1</td>\n",
       "      <td>Female</td>\n",
       "      <td>0</td>\n",
       "      <td>1</td>\n",
       "      <td>0</td>\n",
       "      <td>0</td>\n",
       "      <td>0</td>\n",
       "      <td>Bachelor's Degree</td>\n",
       "    </tr>\n",
       "    <tr>\n",
       "      <th>1800</th>\n",
       "      <td>2020</td>\n",
       "      <td>Accenture</td>\n",
       "      <td>Business Analyst</td>\n",
       "      <td>90000</td>\n",
       "      <td>Detroit, MI</td>\n",
       "      <td>1</td>\n",
       "      <td>Male</td>\n",
       "      <td>0</td>\n",
       "      <td>1</td>\n",
       "      <td>0</td>\n",
       "      <td>0</td>\n",
       "      <td>0</td>\n",
       "      <td>Bachelor's Degree</td>\n",
       "    </tr>\n",
       "    <tr>\n",
       "      <th>1801</th>\n",
       "      <td>2020</td>\n",
       "      <td>Bill.com</td>\n",
       "      <td>Data Scientist</td>\n",
       "      <td>110000</td>\n",
       "      <td>Houston, TX</td>\n",
       "      <td>0</td>\n",
       "      <td>Male</td>\n",
       "      <td>0</td>\n",
       "      <td>1</td>\n",
       "      <td>0</td>\n",
       "      <td>0</td>\n",
       "      <td>0</td>\n",
       "      <td>Bachelor's Degree</td>\n",
       "    </tr>\n",
       "    <tr>\n",
       "      <th>1802</th>\n",
       "      <td>2020</td>\n",
       "      <td>JP Morgan Chase</td>\n",
       "      <td>Data Scientist</td>\n",
       "      <td>132000</td>\n",
       "      <td>New York, NY</td>\n",
       "      <td>0</td>\n",
       "      <td>Male</td>\n",
       "      <td>1</td>\n",
       "      <td>0</td>\n",
       "      <td>0</td>\n",
       "      <td>0</td>\n",
       "      <td>0</td>\n",
       "      <td>Master's Degree</td>\n",
       "    </tr>\n",
       "    <tr>\n",
       "      <th>1803</th>\n",
       "      <td>2020</td>\n",
       "      <td>KPMG</td>\n",
       "      <td>Data Scientist</td>\n",
       "      <td>115000</td>\n",
       "      <td>Dallas, TX</td>\n",
       "      <td>2</td>\n",
       "      <td>Male</td>\n",
       "      <td>1</td>\n",
       "      <td>0</td>\n",
       "      <td>0</td>\n",
       "      <td>0</td>\n",
       "      <td>0</td>\n",
       "      <td>Master's Degree</td>\n",
       "    </tr>\n",
       "  </tbody>\n",
       "</table>\n",
       "<p>1804 rows × 13 columns</p>\n",
       "</div>"
      ],
      "text/plain": [
       "      Year            Compant         Job_Title  Annual_Salary  \\\n",
       "0     2020                PwC  Business Analyst         115000   \n",
       "1     2020  Fractal Analytics    Data Scientist          85000   \n",
       "2     2020          Microsoft    Data Scientist         156000   \n",
       "3     2020                PwC  Business Analyst          25000   \n",
       "4     2020                SAP  Business Analyst          41000   \n",
       "...    ...                ...               ...            ...   \n",
       "1799  2020            Twitter  Business Analyst          89000   \n",
       "1800  2020          Accenture  Business Analyst          90000   \n",
       "1801  2020           Bill.com    Data Scientist         110000   \n",
       "1802  2020    JP Morgan Chase    Data Scientist         132000   \n",
       "1803  2020               KPMG    Data Scientist         115000   \n",
       "\n",
       "                  Location  Years_of_Experience  Gender  Masters Degree  \\\n",
       "0          Los Angeles, CA                    5  Female               1   \n",
       "1     Bangalore, KA, India                    4    Male               0   \n",
       "2              Seattle, WA                    2    Male               0   \n",
       "3       Moscow, MC, Russia                    8  Female               1   \n",
       "4      Toronto, ON, Canada                    2    Male               0   \n",
       "...                    ...                  ...     ...             ...   \n",
       "1799     San Francisco, CA                    1  Female               0   \n",
       "1800           Detroit, MI                    1    Male               0   \n",
       "1801           Houston, TX                    0    Male               0   \n",
       "1802          New York, NY                    0    Male               1   \n",
       "1803            Dallas, TX                    2    Male               1   \n",
       "\n",
       "      Bachelors Degree  Doctorate Degree  Highschool  Some College  \\\n",
       "0                    0                 0           0             0   \n",
       "1                    1                 0           0             0   \n",
       "2                    0                 1           0             0   \n",
       "3                    0                 0           0             0   \n",
       "4                    1                 0           0             0   \n",
       "...                ...               ...         ...           ...   \n",
       "1799                 1                 0           0             0   \n",
       "1800                 1                 0           0             0   \n",
       "1801                 1                 0           0             0   \n",
       "1802                 0                 0           0             0   \n",
       "1803                 0                 0           0             0   \n",
       "\n",
       "              Education  \n",
       "0       Master's Degree  \n",
       "1     Bachelor's Degree  \n",
       "2                   PhD  \n",
       "3       Master's Degree  \n",
       "4     Bachelor's Degree  \n",
       "...                 ...  \n",
       "1799  Bachelor's Degree  \n",
       "1800  Bachelor's Degree  \n",
       "1801  Bachelor's Degree  \n",
       "1802    Master's Degree  \n",
       "1803    Master's Degree  \n",
       "\n",
       "[1804 rows x 13 columns]"
      ]
     },
     "execution_count": 366,
     "metadata": {},
     "output_type": "execute_result"
    }
   ],
   "source": [
    "new_df = job_desc_df.rename(columns = {'Annual Salary':'Annual_Salary', 'Years of Experience':'Years_of_Experience', 'Job Title':'Job_Title'})\n",
    "new_df"
   ]
  },
  {
   "cell_type": "code",
   "execution_count": 281,
   "metadata": {},
   "outputs": [],
   "source": [
    "#Calculating the Average of Annual Salary \n",
    "Average_Annual_Salary = new_df[\"Annual_Salary\"].mean()"
   ]
  },
  {
   "cell_type": "code",
   "execution_count": 282,
   "metadata": {},
   "outputs": [
    {
     "data": {
      "text/plain": [
       "176344.23503325944"
      ]
     },
     "execution_count": 282,
     "metadata": {},
     "output_type": "execute_result"
    }
   ],
   "source": [
    "Average_Annual_Salary"
   ]
  },
  {
   "cell_type": "code",
   "execution_count": 299,
   "metadata": {},
   "outputs": [],
   "source": [
    "# Calculating the Highest Annual Salary \n",
    "Max_Average_Annual_Salary = new_df[\"Annual_Salary\"].max()"
   ]
  },
  {
   "cell_type": "code",
   "execution_count": 300,
   "metadata": {},
   "outputs": [
    {
     "data": {
      "text/plain": [
       "1000000"
      ]
     },
     "execution_count": 300,
     "metadata": {},
     "output_type": "execute_result"
    }
   ],
   "source": [
    "Max_Average_Annual_Salary"
   ]
  },
  {
   "cell_type": "code",
   "execution_count": null,
   "metadata": {},
   "outputs": [],
   "source": [
    "# Calculating the Highest Years of Experience \n",
    "Max_Years_of_Experience = new_df[\"Years_of_Experience\"].max()"
   ]
  },
  {
   "cell_type": "code",
   "execution_count": 284,
   "metadata": {},
   "outputs": [
    {
     "data": {
      "text/plain": [
       "45"
      ]
     },
     "execution_count": 284,
     "metadata": {},
     "output_type": "execute_result"
    }
   ],
   "source": [
    "Max_Years_of_Experience"
   ]
  },
  {
   "cell_type": "code",
   "execution_count": 317,
   "metadata": {
    "scrolled": true
   },
   "outputs": [
    {
     "data": {
      "text/plain": [
       "Years_of_Experience  Job Title       \n",
       "0                    Business Analyst     130000\n",
       "                     Data Scientist       388000\n",
       "1                    Business Analyst     123000\n",
       "                     Data Scientist       294000\n",
       "2                    Business Analyst     190000\n",
       "                     Data Scientist       467000\n",
       "3                    Business Analyst     204000\n",
       "                     Data Scientist       525000\n",
       "4                    Business Analyst     231000\n",
       "                     Data Scientist       550000\n",
       "5                    Business Analyst     270000\n",
       "                     Data Scientist       605000\n",
       "6                    Business Analyst     250000\n",
       "                     Data Scientist       630000\n",
       "7                    Business Analyst     340000\n",
       "                     Data Scientist       645000\n",
       "8                    Business Analyst     405000\n",
       "                     Data Scientist       650000\n",
       "9                    Business Analyst     305000\n",
       "                     Data Scientist       580000\n",
       "10                   Business Analyst     400000\n",
       "                     Data Scientist       740000\n",
       "11                   Business Analyst     350000\n",
       "                     Data Scientist       631000\n",
       "12                   Business Analyst     320000\n",
       "                     Data Scientist       730000\n",
       "13                   Business Analyst     500000\n",
       "                     Data Scientist       412000\n",
       "14                   Business Analyst     280000\n",
       "                     Data Scientist       538000\n",
       "15                   Business Analyst     206000\n",
       "                     Data Scientist       650000\n",
       "16                   Business Analyst     275000\n",
       "                     Data Scientist      1000000\n",
       "17                   Business Analyst      97000\n",
       "                     Data Scientist       400000\n",
       "18                   Data Scientist       315000\n",
       "19                   Business Analyst      93000\n",
       "20                   Business Analyst     650000\n",
       "                     Data Scientist       480000\n",
       "21                   Business Analyst     482000\n",
       "                     Data Scientist       313000\n",
       "23                   Business Analyst     198000\n",
       "                     Data Scientist       255000\n",
       "24                   Business Analyst     180000\n",
       "25                   Business Analyst      90000\n",
       "                     Data Scientist       400000\n",
       "26                   Data Scientist       144000\n",
       "30                   Data Scientist       380000\n",
       "31                   Business Analyst     204000\n",
       "35                   Business Analyst     147000\n",
       "45                   Business Analyst     155000\n",
       "Name: Annual_Salary, dtype: int64"
      ]
     },
     "execution_count": 317,
     "metadata": {},
     "output_type": "execute_result"
    }
   ],
   "source": [
    "# Calculating the Annual Salary based on Years of Experience in relation to Job Title\n",
    "new_df.groupby([\"Years_of_Experience\", \"Job Title\"])[\"Annual_Salary\"].max()"
   ]
  },
  {
   "cell_type": "code",
   "execution_count": 311,
   "metadata": {},
   "outputs": [
    {
     "data": {
      "text/plain": [
       "<AxesSubplot:xlabel='Years_of_Experience'>"
      ]
     },
     "execution_count": 311,
     "metadata": {},
     "output_type": "execute_result"
    },
    {
     "data": {
      "image/png": "[encoded data removed]",
      "text/plain": [
       "<Figure size 432x288 with 1 Axes>"
      ]
     },
     "metadata": {
      "needs_background": "light"
     },
     "output_type": "display_data"
    }
   ],
   "source": [
    "# Comparing Highest Years of Experience with Highest Annual Salary\n",
    "new_df.groupby([\"Years_of_Experience\"])[\"Annual_Salary\"].max().plot()"
   ]
  },
  {
   "cell_type": "code",
   "execution_count": 313,
   "metadata": {},
   "outputs": [
    {
     "data": {
      "text/plain": [
       "Annual_Salary\n",
       "10000       1.00\n",
       "11000       5.00\n",
       "12000       2.50\n",
       "13000       5.00\n",
       "14000       1.75\n",
       "           ...  \n",
       "690000     12.00\n",
       "700000     16.00\n",
       "730000     12.00\n",
       "740000     10.00\n",
       "1000000    16.00\n",
       "Name: Years_of_Experience, Length: 367, dtype: float64"
      ]
     },
     "execution_count": 313,
     "metadata": {},
     "output_type": "execute_result"
    }
   ],
   "source": [
    "# Calculating the Average value of Annual Salary vis a vis Years of Experience \n",
    "new_df.groupby(new_df.Annual_Salary).Years_of_Experience.mean()"
   ]
  },
  {
   "cell_type": "code",
   "execution_count": 349,
   "metadata": {},
   "outputs": [
    {
     "name": "stderr",
     "output_type": "stream",
     "text": [
      "/var/folders/dl/lvr3mtqx0vz098qh46s4bv080000gn/T/ipykernel_2897/1656542555.py:9: UserWarning: FixedFormatter should only be used together with FixedLocator\n",
      "  plt.gca().set_yticklabels(['{:.0f}'.format(x) for x in new_df['Annual_Salary']])\n"
     ]
    },
    {
     "data": {
      "text/plain": [
       "[Text(0, 0.0, '115000'),\n",
       " Text(0, 200000.0, '85000'),\n",
       " Text(0, 400000.0, '156000'),\n",
       " Text(0, 600000.0, '25000'),\n",
       " Text(0, 800000.0, '41000'),\n",
       " Text(0, 1000000.0, '60000'),\n",
       " Text(0, 1200000.0, '274000')]"
      ]
     },
     "execution_count": 349,
     "metadata": {},
     "output_type": "execute_result"
    },
    {
     "data": {
      "image/png": "[encoded data removed]",
      "text/plain": [
       "<Figure size 432x288 with 1 Axes>"
      ]
     },
     "metadata": {
      "needs_background": "light"
     },
     "output_type": "display_data"
    }
   ],
   "source": [
    "# Plotting to show the Annual Salary range based on Job Titles\n",
    "x_axis = new_df[\"Job Title\"]\n",
    "y_axis = new_df['Annual_Salary']\n",
    "\n",
    "plt.bar(x_axis, y_axis, alpha=0.2, align='center')\n",
    "\n",
    "current_values = plt.gca().get_yticks()\n",
    "# using format string '{:.0f}' here but you can choose others\n",
    "plt.gca().set_yticklabels(['{:.0f}'.format(x) for x in new_df['Annual_Salary']])"
   ]
  },
  {
   "cell_type": "code",
   "execution_count": 288,
   "metadata": {},
   "outputs": [
    {
     "data": {
      "text/plain": [
       "155000    1\n",
       "Name: Annual_Salary, dtype: int64"
      ]
     },
     "execution_count": 288,
     "metadata": {},
     "output_type": "execute_result"
    }
   ],
   "source": [
    "new_df[new_df.Years_of_Experience == 45].Annual_Salary.value_counts()"
   ]
  },
  {
   "cell_type": "code",
   "execution_count": 381,
   "metadata": {
    "scrolled": true
   },
   "outputs": [
    {
     "data": {
      "text/plain": [
       "Location                       Job_Title       \n",
       "Alexandria, VA                 Data Scientist       1\n",
       "Alpharetta, GA                 Data Scientist       1\n",
       "Amsterdam, NH, Netherlands     Data Scientist      14\n",
       "                               Business Analyst     3\n",
       "Ann Arbor, MI                  Data Scientist       1\n",
       "Antioch, TN                    Data Scientist       1\n",
       "Arizona City, AZ               Business Analyst     2\n",
       "                               Data Scientist       2\n",
       "Arlington, VA                  Data Scientist      11\n",
       "                               Business Analyst     4\n",
       "Armonk, NY                     Data Scientist       4\n",
       "Atlanta, GA                    Data Scientist      18\n",
       "                               Business Analyst     3\n",
       "Augusta, GA                    Business Analyst     1\n",
       "Austin, TX                     Data Scientist      20\n",
       "                               Business Analyst    12\n",
       "Bangalore, KA, India           Data Scientist      24\n",
       "                               Business Analyst     7\n",
       "Barcelona, CT, Spain           Data Scientist       1\n",
       "Basel, BS, Switzerland         Data Scientist       1\n",
       "Basking Ridge, NJ              Data Scientist       2\n",
       "                               Business Analyst     1\n",
       "Beaverton, OR                  Data Scientist       2\n",
       "Beijing, BJ, China             Data Scientist       2\n",
       "Bellevue, WA                   Data Scientist      12\n",
       "                               Business Analyst     2\n",
       "Bengaluru, KA, India           Data Scientist      14\n",
       "                               Business Analyst     1\n",
       "Bentonville, AR                Data Scientist       7\n",
       "Berkeley, CA                   Data Scientist       2\n",
       "Berlin, BE, Germany            Data Scientist      11\n",
       "                               Business Analyst     6\n",
       "Birmingham, AL                 Data Scientist       1\n",
       "Bloomington, IL                Data Scientist       2\n",
       "Boca Raton, FL                 Data Scientist       1\n",
       "Boise, ID                      Business Analyst     1\n",
       "                               Data Scientist       1\n",
       "Boston, MA                     Data Scientist      27\n",
       "                               Business Analyst    12\n",
       "Boulder, CO                    Data Scientist       5\n",
       "Bozeman, MT                    Business Analyst     1\n",
       "Brazil, IN                     Data Scientist       1\n",
       "Bridgewater, NJ                Data Scientist       2\n",
       "Brooklyn, NY                   Business Analyst     1\n",
       "                               Data Scientist       1\n",
       "Broomfield, CO                 Business Analyst     1\n",
       "                               Data Scientist       1\n",
       "Budapest, BU, Hungary          Business Analyst     1\n",
       "Buenos Aires, DF, Argentina    Business Analyst     1\n",
       "Buffalo, NY                    Business Analyst     1\n",
       "Calgary, AB, Canada            Business Analyst     1\n",
       "                               Data Scientist       1\n",
       "Cambridge, EN, United Kingdom  Data Scientist       1\n",
       "Cambridge, MA                  Data Scientist       8\n",
       "Canberra, CT, Australia        Data Scientist       1\n",
       "Carlsbad, CA                   Business Analyst     1\n",
       "Cary, NC                       Business Analyst     2\n",
       "Chandler, AZ                   Data Scientist       2\n",
       "Chantilly, VA                  Business Analyst     1\n",
       "Charleston, SC                 Data Scientist       1\n",
       "Name: Job_Title, dtype: int64"
      ]
     },
     "execution_count": 381,
     "metadata": {},
     "output_type": "execute_result"
    }
   ],
   "source": [
    "#Showing the country with highest number recruits\n",
    "ar = new_df.groupby(new_df.Location).Job_Title.value_counts()\n",
    "ar.head(60)"
   ]
  },
  {
   "cell_type": "code",
   "execution_count": 359,
   "metadata": {},
   "outputs": [
    {
     "data": {
      "text/plain": [
       "Annual_Salary\n",
       "10000      1\n",
       "11000      1\n",
       "12000      2\n",
       "13000      1\n",
       "14000      4\n",
       "          ..\n",
       "690000     1\n",
       "700000     1\n",
       "730000     1\n",
       "740000     1\n",
       "1000000    1\n",
       "Name: Years_of_Experience, Length: 367, dtype: int64"
      ]
     },
     "execution_count": 359,
     "metadata": {},
     "output_type": "execute_result"
    }
   ],
   "source": [
    "# Showing the value of Annual Salary based on the Years of Experience\n",
    "new_df.groupby(new_df.Annual_Salary).Years_of_Experience.count()"
   ]
  },
  {
   "cell_type": "code",
   "execution_count": 360,
   "metadata": {},
   "outputs": [
    {
     "data": {
      "text/plain": [
       "<AxesSubplot:xlabel='Annual_Salary'>"
      ]
     },
     "execution_count": 360,
     "metadata": {},
     "output_type": "execute_result"
    },
    {
     "data": {
      "image/png": "[encoded data removed]",
      "text/plain": [
       "<Figure size 432x288 with 1 Axes>"
      ]
     },
     "metadata": {
      "needs_background": "light"
     },
     "output_type": "display_data"
    }
   ],
   "source": [
    "# Plotting to show the value of Annual Salary based on the Years of Experience\n",
    "new_df.groupby(new_df.Annual_Salary).Years_of_Experience.count().plot()"
   ]
  },
  {
   "cell_type": "code",
   "execution_count": 341,
   "metadata": {},
   "outputs": [
    {
     "data": {
      "text/plain": [
       "<matplotlib.collections.PathCollection at 0x7fa74df74df0>"
      ]
     },
     "execution_count": 341,
     "metadata": {},
     "output_type": "execute_result"
    },
    {
     "data": {
      "image/png": "[encoded data removed]",
      "text/plain": [
       "<Figure size 432x288 with 1 Axes>"
      ]
     },
     "metadata": {
      "needs_background": "light"
     },
     "output_type": "display_data"
    }
   ],
   "source": [
    "#Plotting a scatter graph to show the relationship between Annual Salary and Years of Experience\n",
    "yrs_exp=new_df[\"Years_of_Experience\"]\n",
    "ann_sal = new_df[\"Annual_Salary\"]\n",
    "plt.scatter(yrs_exp, ann_sal)"
   ]
  },
  {
   "cell_type": "code",
   "execution_count": 342,
   "metadata": {},
   "outputs": [
    {
     "name": "stdout",
     "output_type": "stream",
     "text": [
      "The correlation coefficient between Annual Salary and Years of Experience is 0.32\n"
     ]
    }
   ],
   "source": [
    "#Calculating the correlation coefficient between mouse weight and average tumor volume\n",
    "print(f\"The correlation coefficient between Annual Salary and Years of Experience is {round(st.pearsonr(yrs_exp, ann_sal)[0],2)}\")"
   ]
  },
  {
   "cell_type": "code",
   "execution_count": 343,
   "metadata": {},
   "outputs": [
    {
     "data": {
      "text/plain": [
       "array([1.38007589e-05, 2.82684788e+00])"
      ]
     },
     "execution_count": 343,
     "metadata": {},
     "output_type": "execute_result"
    }
   ],
   "source": [
    "# Calculating the Regression\n",
    "regression = np.polyfit(annual_salary,years_of_exp, deg= 1)\n",
    "regression"
   ]
  },
  {
   "cell_type": "code",
   "execution_count": 344,
   "metadata": {},
   "outputs": [
    {
     "data": {
      "text/plain": [
       "[<matplotlib.lines.Line2D at 0x7fa71e2276d0>]"
      ]
     },
     "execution_count": 344,
     "metadata": {},
     "output_type": "execute_result"
    },
    {
     "data": {
      "image/png": "[encoded data removed]",
      "text/plain": [
       "<Figure size 432x288 with 1 Axes>"
      ]
     },
     "metadata": {
      "needs_background": "light"
     },
     "output_type": "display_data"
    }
   ],
   "source": [
    "# Plotting the trend line\n",
    "trend = np.polyval(reg, annual_salary)\n",
    "plt.scatter(annual_salary,years_of_exp)\n",
    "plt.plot(annual_salary, trend, 'r')"
   ]
  },
  {
   "cell_type": "code",
   "execution_count": null,
   "metadata": {},
   "outputs": [],
   "source": []
  },
  {
   "cell_type": "code",
   "execution_count": null,
   "metadata": {
    "pycharm": {
     "name": "#%%\n"
    }
   },
   "outputs": [],
   "source": [
    "# Clean the data\n",
    "# Drop N/A where relevant (not relevant in the context of education!!!)\n",
    "# Words spelled differently, aggregate words for the same meaning\n",
    "# Address encoding problems: convert all job descriptions to UTF-8 using unicode_escape, pandas ignore encoding)"
   ]
  },
  {
   "cell_type": "code",
   "execution_count": 62,
   "metadata": {
    "pycharm": {
     "name": "#%%\n"
    }
   },
   "outputs": [],
   "source": [
    "# Searching for keywords:\n",
    "# Stop words removal\n",
    "# Count the frequency using CountVectorizer\n",
    "# Produce counts\n",
    "# Define words matrix\n",
    "def words_matrix(words, vectorizer):\n",
    "    matrix = vectorizer.fit_transform(words)"
   ]
  },
  {
   "cell_type": "code",
   "execution_count": 70,
   "metadata": {
    "pycharm": {
     "name": "#%%\n"
    }
   },
   "outputs": [],
   "source": [
    "text = ['Hello, my my my name is Rita and and I am a data scientist.']\n",
    "text2 = ['This is a vectorizer test']"
   ]
  },
  {
   "cell_type": "code",
   "execution_count": 71,
   "metadata": {
    "pycharm": {
     "name": "#%%\n"
    }
   },
   "outputs": [
    {
     "name": "stdout",
     "output_type": "stream",
     "text": [
      "  (0, 3)\t1\n",
      "  (0, 5)\t3\n",
      "  (0, 6)\t1\n",
      "  (0, 4)\t1\n",
      "  (0, 7)\t1\n",
      "  (0, 1)\t2\n",
      "  (0, 0)\t1\n",
      "  (0, 2)\t1\n",
      "  (0, 8)\t1\n"
     ]
    }
   ],
   "source": [
    "vec = CountVectorizer()\n",
    "x = vec.fit_transform(text)\n",
    "print(x)"
   ]
  },
  {
   "cell_type": "code",
   "execution_count": null,
   "metadata": {
    "pycharm": {
     "name": "#%%\n"
    }
   },
   "outputs": [],
   "source": [
    "# Create a visualisation for keywords"
   ]
  },
  {
   "cell_type": "code",
   "execution_count": null,
   "metadata": {
    "pycharm": {
     "name": "#%%\n"
    }
   },
   "outputs": [],
   "source": [
    "# Calculate Measures of Central Tendency - mean, median, mode for education\n",
    "# example_array = np.array([24, 16, 12, 10, 12, 28, 38, 12, 28, 24])\n",
    "# example_mode = stats.mode(example_array)\n",
    "# If there are multiple modes, the stats.mode() function will always return the smallest mode in the dataset."
   ]
  },
  {
   "cell_type": "code",
   "execution_count": null,
   "metadata": {
    "pycharm": {
     "name": "#%%\n"
    }
   },
   "outputs": [],
   "source": [
    "# Create a visualisation for education"
   ]
  },
  {
   "cell_type": "code",
   "execution_count": null,
   "metadata": {
    "pycharm": {
     "name": "#%%\n"
    }
   },
   "outputs": [],
   "source": [
    "# Calculate Measures of Central Tendency - mean, median, mode for experience"
   ]
  },
  {
   "cell_type": "code",
   "execution_count": null,
   "metadata": {
    "pycharm": {
     "name": "#%%\n"
    }
   },
   "outputs": [],
   "source": [
    "# Create a visualisation for experience"
   ]
  },
  {
   "cell_type": "code",
   "execution_count": null,
   "metadata": {
    "pycharm": {
     "name": "#%%\n"
    }
   },
   "outputs": [],
   "source": [
    "# Calculate Measures of Central Tendency - mean, median, mode for earnings"
   ]
  },
  {
   "cell_type": "code",
   "execution_count": null,
   "metadata": {
    "pycharm": {
     "name": "#%%\n"
    }
   },
   "outputs": [],
   "source": [
    "# Create a visualisation for earnings"
   ]
  },
  {
   "cell_type": "code",
   "execution_count": null,
   "metadata": {
    "pycharm": {
     "name": "#%%\n"
    }
   },
   "outputs": [],
   "source": [
    "# Perform regression analysis for education and earnings"
   ]
  },
  {
   "cell_type": "code",
   "execution_count": null,
   "metadata": {
    "pycharm": {
     "name": "#%%\n"
    }
   },
   "outputs": [],
   "source": [
    "# Create a visualisation for regression analysis: education vs earnings"
   ]
  },
  {
   "cell_type": "code",
   "execution_count": null,
   "metadata": {
    "pycharm": {
     "name": "#%%\n"
    }
   },
   "outputs": [],
   "source": [
    "# Perform regression analysis for experience and earnings"
   ]
  },
  {
   "cell_type": "code",
   "execution_count": null,
   "metadata": {
    "pycharm": {
     "name": "#%%\n"
    }
   },
   "outputs": [],
   "source": [
    "# Create a visualisation for regression analysis: experience vs earnings"
   ]
  },
  {
   "cell_type": "code",
   "execution_count": null,
   "metadata": {
    "pycharm": {
     "name": "#%%\n"
    }
   },
   "outputs": [],
   "source": [
    "# We can define the Student t-test as a method that tells us how significant the differences can be between different groups.\n",
    "# A Student t-test is defined as a statistic and this is used to compare the means of two different populations.\n",
    "# t-test: stats.ttest_1samp(X, mean)\n",
    "# Independent t-test: stats.ttest_ind(X,Y)"
   ]
  },
  {
   "cell_type": "code",
   "execution_count": null,
   "metadata": {
    "pycharm": {
     "name": "#%%\n"
    }
   },
   "outputs": [],
   "source": [
    "# Create a visualisation for t-test"
   ]
  }
 ],
 "metadata": {
  "kernelspec": {
   "display_name": "Python 3 (ipykernel)",
   "language": "python",
   "name": "python3"
  },
  "language_info": {
   "codemirror_mode": {
    "name": "ipython",
    "version": 3
   },
   "file_extension": ".py",
   "mimetype": "text/x-python",
   "name": "python",
   "nbconvert_exporter": "python",
   "pygments_lexer": "ipython3",
   "version": "3.9.12"
  }
 },
 "nbformat": 4,
 "nbformat_minor": 1
}
