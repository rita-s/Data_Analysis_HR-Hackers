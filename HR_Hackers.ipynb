{
 "cells": [
  {
   "cell_type": "markdown",
   "metadata": {
    "pycharm": {
     "name": "#%% md\n"
    }
   },
   "source": [
    "# Beat the ATS - Project Description"
   ]
  },
  {
   "cell_type": "markdown",
   "metadata": {
    "pycharm": {
     "name": "#%% md\n"
    }
   },
   "source": [
    "###### According to Jobscan, 99% of Fortune 500 companies use an Applicant Tracking System (ATS) as their recruitment strategy.\n",
    "###### All ATS' store candidates' information by using keywords, so it's easy to parse and filter them.\n",
    "###### If applicant's resume does not meet certain criteria, it is either flagged or auto-rejected.\n",
    "###### \"Beat the ATS\" Project aims to analyse the most popular tools and skills (keywords) for Data Analytics field and check if there is a relationship between those skills and earnings."
   ]
  },
  {
   "cell_type": "markdown",
   "metadata": {
    "pycharm": {
     "name": "#%% md\n"
    }
   },
   "source": [
    "## Research Questions:\n",
    "<b>All research questions are based on years 2020-2021 in the United States of America</b>\n",
    "<br><br>\n",
    "###### 1. What were the most popular technologies employers sought in Data Analytics field in the period 2020-2021? (Frequency analysis)\n",
    "###### 2. What were the most popular tools employers sought? (Frequency analysis)\n",
    "###### 3. What were the most popular soft skills? (Frequency analysis)\n",
    "###### 4. Is there a relationship between education level and earnings? If yes, what is the relationship? (Regression analysis)\n",
    "###### 5. Is there a relationship between years of experience and earnings? If yes, what is the relationship? (Regression analysis)\n",
    "<br><br>\n",
    "### Hypotheses:\n",
    "###### 1. There are certain technologies that are more sought after than others.\n",
    "###### 2. There are certain tools that are more sought after than others.\n",
    "###### 3. There are certain soft skills that are sought after by employers.\n",
    "###### 4. There is a correlation between education level and earnings.\n",
    "###### 5. There is a correlation between experience level (measured in years) and earnings.\n"
   ]
  },
  {
   "cell_type": "code",
   "execution_count": 188,
   "metadata": {},
   "outputs": [],
   "source": [
    "#%matplotlib notebook\n",
    "#%matplotlib inline"
   ]
  },
  {
   "cell_type": "code",
   "execution_count": 142,
   "metadata": {
    "pycharm": {
     "name": "#%%\n"
    }
   },
   "outputs": [],
   "source": [
    "# Import Dependencies\n",
    "import pandas as pd\n",
    "import numpy as np\n",
    "import scipy.stats as st\n",
    "import seaborn as sns\n",
    "import matplotlib.pyplot as plt\n",
    "from sklearn.feature_extraction.text import CountVectorizer\n",
    "from sklearn.feature_extraction.text import TfidfVectorizer"
   ]
  },
  {
   "cell_type": "code",
   "execution_count": 244,
   "metadata": {
    "pycharm": {
     "name": "#%%\n"
    }
   },
   "outputs": [],
   "source": [
    "# Declare variables and import the data\n",
    "# job_descriptions = pd.read_csv(\"Job descriptions.csv\")\n",
    "# salary_education_experience = pd.read_csv(\"salary vs education vs experience.csv\")\n",
    "job_desc_df = pd.read_csv(\"salary_education_experience.csv\")"
   ]
  },
  {
   "cell_type": "markdown",
   "metadata": {},
   "source": [
    "# Finding the relationship between years of experience and earnings"
   ]
  },
  {
   "cell_type": "code",
   "execution_count": 270,
   "metadata": {},
   "outputs": [
    {
     "data": {
      "text/html": [
       "<div>\n",
       "<style scoped>\n",
       "    .dataframe tbody tr th:only-of-type {\n",
       "        vertical-align: middle;\n",
       "    }\n",
       "\n",
       "    .dataframe tbody tr th {\n",
       "        vertical-align: top;\n",
       "    }\n",
       "\n",
       "    .dataframe thead th {\n",
       "        text-align: right;\n",
       "    }\n",
       "</style>\n",
       "<table border=\"1\" class=\"dataframe\">\n",
       "  <thead>\n",
       "    <tr style=\"text-align: right;\">\n",
       "      <th></th>\n",
       "      <th>Year</th>\n",
       "      <th>Compant</th>\n",
       "      <th>Job Title</th>\n",
       "      <th>Annual_Salary</th>\n",
       "      <th>Location</th>\n",
       "      <th>Years_of_Experience</th>\n",
       "      <th>Gender</th>\n",
       "      <th>Masters Degree</th>\n",
       "      <th>Bachelors Degree</th>\n",
       "      <th>Doctorate Degree</th>\n",
       "      <th>Highschool</th>\n",
       "      <th>Some College</th>\n",
       "      <th>Education</th>\n",
       "    </tr>\n",
       "  </thead>\n",
       "  <tbody>\n",
       "    <tr>\n",
       "      <th>0</th>\n",
       "      <td>2020</td>\n",
       "      <td>PwC</td>\n",
       "      <td>Business Analyst</td>\n",
       "      <td>115000</td>\n",
       "      <td>Los Angeles, CA</td>\n",
       "      <td>5</td>\n",
       "      <td>Female</td>\n",
       "      <td>1</td>\n",
       "      <td>0</td>\n",
       "      <td>0</td>\n",
       "      <td>0</td>\n",
       "      <td>0</td>\n",
       "      <td>Master's Degree</td>\n",
       "    </tr>\n",
       "    <tr>\n",
       "      <th>1</th>\n",
       "      <td>2020</td>\n",
       "      <td>Fractal Analytics</td>\n",
       "      <td>Data Scientist</td>\n",
       "      <td>85000</td>\n",
       "      <td>Bangalore, KA, India</td>\n",
       "      <td>4</td>\n",
       "      <td>Male</td>\n",
       "      <td>0</td>\n",
       "      <td>1</td>\n",
       "      <td>0</td>\n",
       "      <td>0</td>\n",
       "      <td>0</td>\n",
       "      <td>Bachelor's Degree</td>\n",
       "    </tr>\n",
       "    <tr>\n",
       "      <th>2</th>\n",
       "      <td>2020</td>\n",
       "      <td>Microsoft</td>\n",
       "      <td>Data Scientist</td>\n",
       "      <td>156000</td>\n",
       "      <td>Seattle, WA</td>\n",
       "      <td>2</td>\n",
       "      <td>Male</td>\n",
       "      <td>0</td>\n",
       "      <td>0</td>\n",
       "      <td>1</td>\n",
       "      <td>0</td>\n",
       "      <td>0</td>\n",
       "      <td>PhD</td>\n",
       "    </tr>\n",
       "    <tr>\n",
       "      <th>3</th>\n",
       "      <td>2020</td>\n",
       "      <td>PwC</td>\n",
       "      <td>Business Analyst</td>\n",
       "      <td>25000</td>\n",
       "      <td>Moscow, MC, Russia</td>\n",
       "      <td>8</td>\n",
       "      <td>Female</td>\n",
       "      <td>1</td>\n",
       "      <td>0</td>\n",
       "      <td>0</td>\n",
       "      <td>0</td>\n",
       "      <td>0</td>\n",
       "      <td>Master's Degree</td>\n",
       "    </tr>\n",
       "    <tr>\n",
       "      <th>4</th>\n",
       "      <td>2020</td>\n",
       "      <td>SAP</td>\n",
       "      <td>Business Analyst</td>\n",
       "      <td>41000</td>\n",
       "      <td>Toronto, ON, Canada</td>\n",
       "      <td>2</td>\n",
       "      <td>Male</td>\n",
       "      <td>0</td>\n",
       "      <td>1</td>\n",
       "      <td>0</td>\n",
       "      <td>0</td>\n",
       "      <td>0</td>\n",
       "      <td>Bachelor's Degree</td>\n",
       "    </tr>\n",
       "    <tr>\n",
       "      <th>...</th>\n",
       "      <td>...</td>\n",
       "      <td>...</td>\n",
       "      <td>...</td>\n",
       "      <td>...</td>\n",
       "      <td>...</td>\n",
       "      <td>...</td>\n",
       "      <td>...</td>\n",
       "      <td>...</td>\n",
       "      <td>...</td>\n",
       "      <td>...</td>\n",
       "      <td>...</td>\n",
       "      <td>...</td>\n",
       "      <td>...</td>\n",
       "    </tr>\n",
       "    <tr>\n",
       "      <th>1799</th>\n",
       "      <td>2020</td>\n",
       "      <td>Twitter</td>\n",
       "      <td>Business Analyst</td>\n",
       "      <td>89000</td>\n",
       "      <td>San Francisco, CA</td>\n",
       "      <td>1</td>\n",
       "      <td>Female</td>\n",
       "      <td>0</td>\n",
       "      <td>1</td>\n",
       "      <td>0</td>\n",
       "      <td>0</td>\n",
       "      <td>0</td>\n",
       "      <td>Bachelor's Degree</td>\n",
       "    </tr>\n",
       "    <tr>\n",
       "      <th>1800</th>\n",
       "      <td>2020</td>\n",
       "      <td>Accenture</td>\n",
       "      <td>Business Analyst</td>\n",
       "      <td>90000</td>\n",
       "      <td>Detroit, MI</td>\n",
       "      <td>1</td>\n",
       "      <td>Male</td>\n",
       "      <td>0</td>\n",
       "      <td>1</td>\n",
       "      <td>0</td>\n",
       "      <td>0</td>\n",
       "      <td>0</td>\n",
       "      <td>Bachelor's Degree</td>\n",
       "    </tr>\n",
       "    <tr>\n",
       "      <th>1801</th>\n",
       "      <td>2020</td>\n",
       "      <td>Bill.com</td>\n",
       "      <td>Data Scientist</td>\n",
       "      <td>110000</td>\n",
       "      <td>Houston, TX</td>\n",
       "      <td>0</td>\n",
       "      <td>Male</td>\n",
       "      <td>0</td>\n",
       "      <td>1</td>\n",
       "      <td>0</td>\n",
       "      <td>0</td>\n",
       "      <td>0</td>\n",
       "      <td>Bachelor's Degree</td>\n",
       "    </tr>\n",
       "    <tr>\n",
       "      <th>1802</th>\n",
       "      <td>2020</td>\n",
       "      <td>JP Morgan Chase</td>\n",
       "      <td>Data Scientist</td>\n",
       "      <td>132000</td>\n",
       "      <td>New York, NY</td>\n",
       "      <td>0</td>\n",
       "      <td>Male</td>\n",
       "      <td>1</td>\n",
       "      <td>0</td>\n",
       "      <td>0</td>\n",
       "      <td>0</td>\n",
       "      <td>0</td>\n",
       "      <td>Master's Degree</td>\n",
       "    </tr>\n",
       "    <tr>\n",
       "      <th>1803</th>\n",
       "      <td>2020</td>\n",
       "      <td>KPMG</td>\n",
       "      <td>Data Scientist</td>\n",
       "      <td>115000</td>\n",
       "      <td>Dallas, TX</td>\n",
       "      <td>2</td>\n",
       "      <td>Male</td>\n",
       "      <td>1</td>\n",
       "      <td>0</td>\n",
       "      <td>0</td>\n",
       "      <td>0</td>\n",
       "      <td>0</td>\n",
       "      <td>Master's Degree</td>\n",
       "    </tr>\n",
       "  </tbody>\n",
       "</table>\n",
       "<p>1804 rows × 13 columns</p>\n",
       "</div>"
      ],
      "text/plain": [
       "      Year            Compant         Job Title  Annual_Salary  \\\n",
       "0     2020                PwC  Business Analyst         115000   \n",
       "1     2020  Fractal Analytics    Data Scientist          85000   \n",
       "2     2020          Microsoft    Data Scientist         156000   \n",
       "3     2020                PwC  Business Analyst          25000   \n",
       "4     2020                SAP  Business Analyst          41000   \n",
       "...    ...                ...               ...            ...   \n",
       "1799  2020            Twitter  Business Analyst          89000   \n",
       "1800  2020          Accenture  Business Analyst          90000   \n",
       "1801  2020           Bill.com    Data Scientist         110000   \n",
       "1802  2020    JP Morgan Chase    Data Scientist         132000   \n",
       "1803  2020               KPMG    Data Scientist         115000   \n",
       "\n",
       "                  Location  Years_of_Experience  Gender  Masters Degree  \\\n",
       "0          Los Angeles, CA                    5  Female               1   \n",
       "1     Bangalore, KA, India                    4    Male               0   \n",
       "2              Seattle, WA                    2    Male               0   \n",
       "3       Moscow, MC, Russia                    8  Female               1   \n",
       "4      Toronto, ON, Canada                    2    Male               0   \n",
       "...                    ...                  ...     ...             ...   \n",
       "1799     San Francisco, CA                    1  Female               0   \n",
       "1800           Detroit, MI                    1    Male               0   \n",
       "1801           Houston, TX                    0    Male               0   \n",
       "1802          New York, NY                    0    Male               1   \n",
       "1803            Dallas, TX                    2    Male               1   \n",
       "\n",
       "      Bachelors Degree  Doctorate Degree  Highschool  Some College  \\\n",
       "0                    0                 0           0             0   \n",
       "1                    1                 0           0             0   \n",
       "2                    0                 1           0             0   \n",
       "3                    0                 0           0             0   \n",
       "4                    1                 0           0             0   \n",
       "...                ...               ...         ...           ...   \n",
       "1799                 1                 0           0             0   \n",
       "1800                 1                 0           0             0   \n",
       "1801                 1                 0           0             0   \n",
       "1802                 0                 0           0             0   \n",
       "1803                 0                 0           0             0   \n",
       "\n",
       "              Education  \n",
       "0       Master's Degree  \n",
       "1     Bachelor's Degree  \n",
       "2                   PhD  \n",
       "3       Master's Degree  \n",
       "4     Bachelor's Degree  \n",
       "...                 ...  \n",
       "1799  Bachelor's Degree  \n",
       "1800  Bachelor's Degree  \n",
       "1801  Bachelor's Degree  \n",
       "1802    Master's Degree  \n",
       "1803    Master's Degree  \n",
       "\n",
       "[1804 rows x 13 columns]"
      ]
     },
     "execution_count": 270,
     "metadata": {},
     "output_type": "execute_result"
    }
   ],
   "source": [
    "new_df = job_desc_df.rename(columns = {'Annual Salary':'Annual_Salary', 'Years of Experience':'Years_of_Experience'})\n",
    "new_df"
   ]
  },
  {
   "cell_type": "code",
   "execution_count": 281,
   "metadata": {},
   "outputs": [],
   "source": [
    "Average_Annual_Salary = new_df[\"Annual_Salary\"].mean()"
   ]
  },
  {
   "cell_type": "code",
   "execution_count": 282,
   "metadata": {},
   "outputs": [
    {
     "data": {
      "text/plain": [
       "176344.23503325944"
      ]
     },
     "execution_count": 282,
     "metadata": {},
     "output_type": "execute_result"
    }
   ],
   "source": [
    "Average_Annual_Salary"
   ]
  },
  {
   "cell_type": "code",
   "execution_count": 283,
   "metadata": {},
   "outputs": [],
   "source": [
    "Max_Years_of_Experience = new_df[\"Years_of_Experience\"].max()"
   ]
  },
  {
   "cell_type": "code",
   "execution_count": 284,
   "metadata": {},
   "outputs": [
    {
     "data": {
      "text/plain": [
       "45"
      ]
     },
     "execution_count": 284,
     "metadata": {},
     "output_type": "execute_result"
    }
   ],
   "source": [
    "Max_Years_of_Experience"
   ]
  },
  {
   "cell_type": "code",
   "execution_count": 288,
   "metadata": {},
   "outputs": [
    {
     "data": {
      "text/plain": [
       "155000    1\n",
       "Name: Annual_Salary, dtype: int64"
      ]
     },
     "execution_count": 288,
     "metadata": {},
     "output_type": "execute_result"
    }
   ],
   "source": [
    "new_df[new_df.Years_of_Experience == 45].Annual_Salary.value_counts()"
   ]
  },
  {
   "cell_type": "code",
   "execution_count": 291,
   "metadata": {},
   "outputs": [
    {
     "data": {
      "text/html": [
       "<div>\n",
       "<style scoped>\n",
       "    .dataframe tbody tr th:only-of-type {\n",
       "        vertical-align: middle;\n",
       "    }\n",
       "\n",
       "    .dataframe tbody tr th {\n",
       "        vertical-align: top;\n",
       "    }\n",
       "\n",
       "    .dataframe thead th {\n",
       "        text-align: right;\n",
       "    }\n",
       "</style>\n",
       "<table border=\"1\" class=\"dataframe\">\n",
       "  <thead>\n",
       "    <tr style=\"text-align: right;\">\n",
       "      <th></th>\n",
       "      <th></th>\n",
       "      <th>Year</th>\n",
       "      <th>Compant</th>\n",
       "      <th>Annual_Salary</th>\n",
       "      <th>Years_of_Experience</th>\n",
       "      <th>Gender</th>\n",
       "      <th>Masters Degree</th>\n",
       "      <th>Bachelors Degree</th>\n",
       "      <th>Doctorate Degree</th>\n",
       "      <th>Highschool</th>\n",
       "      <th>Some College</th>\n",
       "      <th>Education</th>\n",
       "    </tr>\n",
       "    <tr>\n",
       "      <th>Location</th>\n",
       "      <th>Job Title</th>\n",
       "      <th></th>\n",
       "      <th></th>\n",
       "      <th></th>\n",
       "      <th></th>\n",
       "      <th></th>\n",
       "      <th></th>\n",
       "      <th></th>\n",
       "      <th></th>\n",
       "      <th></th>\n",
       "      <th></th>\n",
       "      <th></th>\n",
       "    </tr>\n",
       "  </thead>\n",
       "  <tbody>\n",
       "    <tr>\n",
       "      <th>Alexandria, VA</th>\n",
       "      <th>Data Scientist</th>\n",
       "      <td>1</td>\n",
       "      <td>1</td>\n",
       "      <td>1</td>\n",
       "      <td>1</td>\n",
       "      <td>1</td>\n",
       "      <td>1</td>\n",
       "      <td>1</td>\n",
       "      <td>1</td>\n",
       "      <td>1</td>\n",
       "      <td>1</td>\n",
       "      <td>0</td>\n",
       "    </tr>\n",
       "    <tr>\n",
       "      <th>Alpharetta, GA</th>\n",
       "      <th>Data Scientist</th>\n",
       "      <td>1</td>\n",
       "      <td>1</td>\n",
       "      <td>1</td>\n",
       "      <td>1</td>\n",
       "      <td>1</td>\n",
       "      <td>1</td>\n",
       "      <td>1</td>\n",
       "      <td>1</td>\n",
       "      <td>1</td>\n",
       "      <td>1</td>\n",
       "      <td>1</td>\n",
       "    </tr>\n",
       "    <tr>\n",
       "      <th rowspan=\"2\" valign=\"top\">Amsterdam, NH, Netherlands</th>\n",
       "      <th>Business Analyst</th>\n",
       "      <td>3</td>\n",
       "      <td>3</td>\n",
       "      <td>3</td>\n",
       "      <td>3</td>\n",
       "      <td>3</td>\n",
       "      <td>3</td>\n",
       "      <td>3</td>\n",
       "      <td>3</td>\n",
       "      <td>3</td>\n",
       "      <td>3</td>\n",
       "      <td>3</td>\n",
       "    </tr>\n",
       "    <tr>\n",
       "      <th>Data Scientist</th>\n",
       "      <td>14</td>\n",
       "      <td>14</td>\n",
       "      <td>14</td>\n",
       "      <td>14</td>\n",
       "      <td>14</td>\n",
       "      <td>14</td>\n",
       "      <td>14</td>\n",
       "      <td>14</td>\n",
       "      <td>14</td>\n",
       "      <td>14</td>\n",
       "      <td>12</td>\n",
       "    </tr>\n",
       "    <tr>\n",
       "      <th>Ann Arbor, MI</th>\n",
       "      <th>Data Scientist</th>\n",
       "      <td>1</td>\n",
       "      <td>1</td>\n",
       "      <td>1</td>\n",
       "      <td>1</td>\n",
       "      <td>1</td>\n",
       "      <td>1</td>\n",
       "      <td>1</td>\n",
       "      <td>1</td>\n",
       "      <td>1</td>\n",
       "      <td>1</td>\n",
       "      <td>1</td>\n",
       "    </tr>\n",
       "    <tr>\n",
       "      <th>...</th>\n",
       "      <th>...</th>\n",
       "      <td>...</td>\n",
       "      <td>...</td>\n",
       "      <td>...</td>\n",
       "      <td>...</td>\n",
       "      <td>...</td>\n",
       "      <td>...</td>\n",
       "      <td>...</td>\n",
       "      <td>...</td>\n",
       "      <td>...</td>\n",
       "      <td>...</td>\n",
       "      <td>...</td>\n",
       "    </tr>\n",
       "    <tr>\n",
       "      <th>Wilton, CT</th>\n",
       "      <th>Business Analyst</th>\n",
       "      <td>1</td>\n",
       "      <td>1</td>\n",
       "      <td>1</td>\n",
       "      <td>1</td>\n",
       "      <td>1</td>\n",
       "      <td>1</td>\n",
       "      <td>1</td>\n",
       "      <td>1</td>\n",
       "      <td>1</td>\n",
       "      <td>1</td>\n",
       "      <td>1</td>\n",
       "    </tr>\n",
       "    <tr>\n",
       "      <th>Woonsocket, RI</th>\n",
       "      <th>Data Scientist</th>\n",
       "      <td>1</td>\n",
       "      <td>1</td>\n",
       "      <td>1</td>\n",
       "      <td>1</td>\n",
       "      <td>1</td>\n",
       "      <td>1</td>\n",
       "      <td>1</td>\n",
       "      <td>1</td>\n",
       "      <td>1</td>\n",
       "      <td>1</td>\n",
       "      <td>1</td>\n",
       "    </tr>\n",
       "    <tr>\n",
       "      <th>Worcester, MA</th>\n",
       "      <th>Data Scientist</th>\n",
       "      <td>1</td>\n",
       "      <td>1</td>\n",
       "      <td>1</td>\n",
       "      <td>1</td>\n",
       "      <td>1</td>\n",
       "      <td>1</td>\n",
       "      <td>1</td>\n",
       "      <td>1</td>\n",
       "      <td>1</td>\n",
       "      <td>1</td>\n",
       "      <td>1</td>\n",
       "    </tr>\n",
       "    <tr>\n",
       "      <th rowspan=\"2\" valign=\"top\">Zurich, ZH, Switzerland</th>\n",
       "      <th>Business Analyst</th>\n",
       "      <td>3</td>\n",
       "      <td>3</td>\n",
       "      <td>3</td>\n",
       "      <td>3</td>\n",
       "      <td>3</td>\n",
       "      <td>3</td>\n",
       "      <td>3</td>\n",
       "      <td>3</td>\n",
       "      <td>3</td>\n",
       "      <td>3</td>\n",
       "      <td>3</td>\n",
       "    </tr>\n",
       "    <tr>\n",
       "      <th>Data Scientist</th>\n",
       "      <td>2</td>\n",
       "      <td>2</td>\n",
       "      <td>2</td>\n",
       "      <td>2</td>\n",
       "      <td>2</td>\n",
       "      <td>2</td>\n",
       "      <td>2</td>\n",
       "      <td>2</td>\n",
       "      <td>2</td>\n",
       "      <td>2</td>\n",
       "      <td>2</td>\n",
       "    </tr>\n",
       "  </tbody>\n",
       "</table>\n",
       "<p>301 rows × 11 columns</p>\n",
       "</div>"
      ],
      "text/plain": [
       "                                             Year  Compant  Annual_Salary  \\\n",
       "Location                   Job Title                                        \n",
       "Alexandria, VA             Data Scientist       1        1              1   \n",
       "Alpharetta, GA             Data Scientist       1        1              1   \n",
       "Amsterdam, NH, Netherlands Business Analyst     3        3              3   \n",
       "                           Data Scientist      14       14             14   \n",
       "Ann Arbor, MI              Data Scientist       1        1              1   \n",
       "...                                           ...      ...            ...   \n",
       "Wilton, CT                 Business Analyst     1        1              1   \n",
       "Woonsocket, RI             Data Scientist       1        1              1   \n",
       "Worcester, MA              Data Scientist       1        1              1   \n",
       "Zurich, ZH, Switzerland    Business Analyst     3        3              3   \n",
       "                           Data Scientist       2        2              2   \n",
       "\n",
       "                                             Years_of_Experience  Gender  \\\n",
       "Location                   Job Title                                       \n",
       "Alexandria, VA             Data Scientist                      1       1   \n",
       "Alpharetta, GA             Data Scientist                      1       1   \n",
       "Amsterdam, NH, Netherlands Business Analyst                    3       3   \n",
       "                           Data Scientist                     14      14   \n",
       "Ann Arbor, MI              Data Scientist                      1       1   \n",
       "...                                                          ...     ...   \n",
       "Wilton, CT                 Business Analyst                    1       1   \n",
       "Woonsocket, RI             Data Scientist                      1       1   \n",
       "Worcester, MA              Data Scientist                      1       1   \n",
       "Zurich, ZH, Switzerland    Business Analyst                    3       3   \n",
       "                           Data Scientist                      2       2   \n",
       "\n",
       "                                             Masters Degree  Bachelors Degree  \\\n",
       "Location                   Job Title                                            \n",
       "Alexandria, VA             Data Scientist                 1                 1   \n",
       "Alpharetta, GA             Data Scientist                 1                 1   \n",
       "Amsterdam, NH, Netherlands Business Analyst               3                 3   \n",
       "                           Data Scientist                14                14   \n",
       "Ann Arbor, MI              Data Scientist                 1                 1   \n",
       "...                                                     ...               ...   \n",
       "Wilton, CT                 Business Analyst               1                 1   \n",
       "Woonsocket, RI             Data Scientist                 1                 1   \n",
       "Worcester, MA              Data Scientist                 1                 1   \n",
       "Zurich, ZH, Switzerland    Business Analyst               3                 3   \n",
       "                           Data Scientist                 2                 2   \n",
       "\n",
       "                                             Doctorate Degree  Highschool  \\\n",
       "Location                   Job Title                                        \n",
       "Alexandria, VA             Data Scientist                   1           1   \n",
       "Alpharetta, GA             Data Scientist                   1           1   \n",
       "Amsterdam, NH, Netherlands Business Analyst                 3           3   \n",
       "                           Data Scientist                  14          14   \n",
       "Ann Arbor, MI              Data Scientist                   1           1   \n",
       "...                                                       ...         ...   \n",
       "Wilton, CT                 Business Analyst                 1           1   \n",
       "Woonsocket, RI             Data Scientist                   1           1   \n",
       "Worcester, MA              Data Scientist                   1           1   \n",
       "Zurich, ZH, Switzerland    Business Analyst                 3           3   \n",
       "                           Data Scientist                   2           2   \n",
       "\n",
       "                                             Some College  Education  \n",
       "Location                   Job Title                                  \n",
       "Alexandria, VA             Data Scientist               1          0  \n",
       "Alpharetta, GA             Data Scientist               1          1  \n",
       "Amsterdam, NH, Netherlands Business Analyst             3          3  \n",
       "                           Data Scientist              14         12  \n",
       "Ann Arbor, MI              Data Scientist               1          1  \n",
       "...                                                   ...        ...  \n",
       "Wilton, CT                 Business Analyst             1          1  \n",
       "Woonsocket, RI             Data Scientist               1          1  \n",
       "Worcester, MA              Data Scientist               1          1  \n",
       "Zurich, ZH, Switzerland    Business Analyst             3          3  \n",
       "                           Data Scientist               2          2  \n",
       "\n",
       "[301 rows x 11 columns]"
      ]
     },
     "execution_count": 291,
     "metadata": {},
     "output_type": "execute_result"
    }
   ],
   "source": [
    "new_df.groupby([\"Location\", \"Job Title\"]).count()"
   ]
  },
  {
   "cell_type": "code",
   "execution_count": 275,
   "metadata": {},
   "outputs": [
    {
     "data": {
      "text/plain": [
       "2     66\n",
       "5     59\n",
       "3     58\n",
       "4     52\n",
       "0     32\n",
       "1     31\n",
       "6     29\n",
       "7     27\n",
       "8     23\n",
       "10    23\n",
       "9     12\n",
       "12     8\n",
       "20     6\n",
       "15     5\n",
       "11     5\n",
       "13     4\n",
       "14     2\n",
       "45     1\n",
       "35     1\n",
       "Name: Years_of_Experience, dtype: int64"
      ]
     },
     "execution_count": 275,
     "metadata": {},
     "output_type": "execute_result"
    }
   ],
   "source": [
    "new_df[new_df.Gender == \"Female\"].Years_of_Experience.value_counts()"
   ]
  },
  {
   "cell_type": "code",
   "execution_count": null,
   "metadata": {},
   "outputs": [],
   "source": []
  },
  {
   "cell_type": "code",
   "execution_count": null,
   "metadata": {},
   "outputs": [],
   "source": []
  },
  {
   "cell_type": "code",
   "execution_count": null,
   "metadata": {},
   "outputs": [],
   "source": []
  },
  {
   "cell_type": "code",
   "execution_count": null,
   "metadata": {},
   "outputs": [],
   "source": []
  },
  {
   "cell_type": "code",
   "execution_count": null,
   "metadata": {},
   "outputs": [],
   "source": []
  },
  {
   "cell_type": "code",
   "execution_count": null,
   "metadata": {},
   "outputs": [],
   "source": []
  },
  {
   "cell_type": "code",
   "execution_count": null,
   "metadata": {},
   "outputs": [],
   "source": []
  },
  {
   "cell_type": "code",
   "execution_count": null,
   "metadata": {
    "pycharm": {
     "name": "#%%\n"
    }
   },
   "outputs": [],
   "source": [
    "# Clean the data\n",
    "# Drop N/A where relevant (not relevant in the context of education!!!)\n",
    "# Words spelled differently, aggregate words for the same meaning\n",
    "# Address encoding problems: convert all job descriptions to UTF-8 using unicode_escape, pandas ignore encoding)"
   ]
  },
  {
   "cell_type": "code",
   "execution_count": 62,
   "metadata": {
    "pycharm": {
     "name": "#%%\n"
    }
   },
   "outputs": [],
   "source": [
    "# Searching for keywords:\n",
    "# Stop words removal\n",
    "# Count the frequency using CountVectorizer\n",
    "# Produce counts\n",
    "# Define words matrix\n",
    "def words_matrix(words, vectorizer):\n",
    "    matrix = vectorizer.fit_transform(words)"
   ]
  },
  {
   "cell_type": "code",
   "execution_count": 70,
   "metadata": {
    "pycharm": {
     "name": "#%%\n"
    }
   },
   "outputs": [],
   "source": [
    "text = ['Hello, my my my name is Rita and and I am a data scientist.']\n",
    "text2 = ['This is a vectorizer test']"
   ]
  },
  {
   "cell_type": "code",
   "execution_count": 71,
   "metadata": {
    "pycharm": {
     "name": "#%%\n"
    }
   },
   "outputs": [
    {
     "name": "stdout",
     "output_type": "stream",
     "text": [
      "  (0, 3)\t1\n",
      "  (0, 5)\t3\n",
      "  (0, 6)\t1\n",
      "  (0, 4)\t1\n",
      "  (0, 7)\t1\n",
      "  (0, 1)\t2\n",
      "  (0, 0)\t1\n",
      "  (0, 2)\t1\n",
      "  (0, 8)\t1\n"
     ]
    }
   ],
   "source": [
    "vec = CountVectorizer()\n",
    "x = vec.fit_transform(text)\n",
    "print(x)"
   ]
  },
  {
   "cell_type": "code",
   "execution_count": null,
   "metadata": {
    "pycharm": {
     "name": "#%%\n"
    }
   },
   "outputs": [],
   "source": [
    "# Create a visualisation for keywords"
   ]
  },
  {
   "cell_type": "code",
   "execution_count": null,
   "metadata": {
    "pycharm": {
     "name": "#%%\n"
    }
   },
   "outputs": [],
   "source": [
    "# Calculate Measures of Central Tendency - mean, median, mode for education\n",
    "# example_array = np.array([24, 16, 12, 10, 12, 28, 38, 12, 28, 24])\n",
    "# example_mode = stats.mode(example_array)\n",
    "# If there are multiple modes, the stats.mode() function will always return the smallest mode in the dataset."
   ]
  },
  {
   "cell_type": "code",
   "execution_count": null,
   "metadata": {
    "pycharm": {
     "name": "#%%\n"
    }
   },
   "outputs": [],
   "source": [
    "# Create a visualisation for education"
   ]
  },
  {
   "cell_type": "code",
   "execution_count": null,
   "metadata": {
    "pycharm": {
     "name": "#%%\n"
    }
   },
   "outputs": [],
   "source": [
    "# Calculate Measures of Central Tendency - mean, median, mode for experience"
   ]
  },
  {
   "cell_type": "code",
   "execution_count": null,
   "metadata": {
    "pycharm": {
     "name": "#%%\n"
    }
   },
   "outputs": [],
   "source": [
    "# Create a visualisation for experience"
   ]
  },
  {
   "cell_type": "code",
   "execution_count": null,
   "metadata": {
    "pycharm": {
     "name": "#%%\n"
    }
   },
   "outputs": [],
   "source": [
    "# Calculate Measures of Central Tendency - mean, median, mode for earnings"
   ]
  },
  {
   "cell_type": "code",
   "execution_count": null,
   "metadata": {
    "pycharm": {
     "name": "#%%\n"
    }
   },
   "outputs": [],
   "source": [
    "# Create a visualisation for earnings"
   ]
  },
  {
   "cell_type": "code",
   "execution_count": null,
   "metadata": {
    "pycharm": {
     "name": "#%%\n"
    }
   },
   "outputs": [],
   "source": [
    "# Perform regression analysis for education and earnings"
   ]
  },
  {
   "cell_type": "code",
   "execution_count": null,
   "metadata": {
    "pycharm": {
     "name": "#%%\n"
    }
   },
   "outputs": [],
   "source": [
    "# Create a visualisation for regression analysis: education vs earnings"
   ]
  },
  {
   "cell_type": "code",
   "execution_count": null,
   "metadata": {
    "pycharm": {
     "name": "#%%\n"
    }
   },
   "outputs": [],
   "source": [
    "# Perform regression analysis for experience and earnings"
   ]
  },
  {
   "cell_type": "code",
   "execution_count": null,
   "metadata": {
    "pycharm": {
     "name": "#%%\n"
    }
   },
   "outputs": [],
   "source": [
    "# Create a visualisation for regression analysis: experience vs earnings"
   ]
  },
  {
   "cell_type": "code",
   "execution_count": null,
   "metadata": {
    "pycharm": {
     "name": "#%%\n"
    }
   },
   "outputs": [],
   "source": [
    "# We can define the Student t-test as a method that tells us how significant the differences can be between different groups.\n",
    "# A Student t-test is defined as a statistic and this is used to compare the means of two different populations.\n",
    "# t-test: stats.ttest_1samp(X, mean)\n",
    "# Independent t-test: stats.ttest_ind(X,Y)"
   ]
  },
  {
   "cell_type": "code",
   "execution_count": null,
   "metadata": {
    "pycharm": {
     "name": "#%%\n"
    }
   },
   "outputs": [],
   "source": [
    "# Create a visualisation for t-test"
   ]
  }
 ],
 "metadata": {
  "kernelspec": {
   "display_name": "Python 3 (ipykernel)",
   "language": "python",
   "name": "python3"
  },
  "language_info": {
   "codemirror_mode": {
    "name": "ipython",
    "version": 3
   },
   "file_extension": ".py",
   "mimetype": "text/x-python",
   "name": "python",
   "nbconvert_exporter": "python",
   "pygments_lexer": "ipython3",
   "version": "3.9.12"
  }
 },
 "nbformat": 4,
 "nbformat_minor": 1
}
